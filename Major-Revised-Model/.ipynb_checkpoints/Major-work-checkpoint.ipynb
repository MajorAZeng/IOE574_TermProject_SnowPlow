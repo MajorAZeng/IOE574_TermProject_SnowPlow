{
 "cells": [
  {
   "cell_type": "code",
   "execution_count": 1,
   "id": "b832b099-b8df-4d76-b743-235f0020979b",
   "metadata": {
    "tags": []
   },
   "outputs": [],
   "source": [
    "import geopandas as gpd\n",
    "import networkx as nx\n",
    "import numpy as np"
   ]
  },
  {
   "cell_type": "code",
   "execution_count": 2,
   "id": "7ce79f7c-fa8c-47b8-9ba2-f8bdbdedaa32",
   "metadata": {
    "tags": []
   },
   "outputs": [],
   "source": [
    "from M0_Class_Map_Road import Map"
   ]
  },
  {
   "cell_type": "code",
   "execution_count": 15,
   "id": "9c683262-0569-464a-a201-74d3684b9c45",
   "metadata": {
    "tags": []
   },
   "outputs": [],
   "source": [
    "# Create a based map\n",
    "M = Map('Data/AA_Map_Final.gpkg')\n",
    "# Experience a snow event\n",
    "M.Experience_Snow(6)"
   ]
  },
  {
   "cell_type": "code",
   "execution_count": 16,
   "id": "20eb2dde-d94a-4c24-8bf8-2fc6318b18af",
   "metadata": {
    "tags": []
   },
   "outputs": [
    {
     "data": {
      "text/plain": [
       "NoneType"
      ]
     },
     "execution_count": 16,
     "metadata": {},
     "output_type": "execute_result"
    }
   ],
   "source": [
    "type(M.graph)"
   ]
  },
  {
   "cell_type": "code",
   "execution_count": null,
   "id": "41eb15fe-d535-4c16-9e26-d88342b9a9d5",
   "metadata": {},
   "outputs": [],
   "source": []
  }
 ],
 "metadata": {
  "kernelspec": {
   "display_name": "Python 3 (ipykernel)",
   "language": "python",
   "name": "python3"
  },
  "language_info": {
   "codemirror_mode": {
    "name": "ipython",
    "version": 3
   },
   "file_extension": ".py",
   "mimetype": "text/x-python",
   "name": "python",
   "nbconvert_exporter": "python",
   "pygments_lexer": "ipython3",
   "version": "3.9.18"
  }
 },
 "nbformat": 4,
 "nbformat_minor": 5
}
