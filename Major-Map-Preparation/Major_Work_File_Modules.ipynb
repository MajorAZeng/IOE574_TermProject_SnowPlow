{
 "cells": [
  {
   "cell_type": "code",
   "execution_count": 1,
   "id": "45286699-8aa0-4e4a-ae4c-f7c693d458d3",
   "metadata": {
    "tags": []
   },
   "outputs": [],
   "source": [
    "import geopandas as gpd\n",
    "import numpy as np\n",
    "import networkx as nx"
   ]
  },
  {
   "cell_type": "code",
   "execution_count": null,
   "id": "28ecb554-61a3-434c-80ea-0fe01183e157",
   "metadata": {
    "tags": []
   },
   "outputs": [],
   "source": []
  },
  {
   "cell_type": "markdown",
   "id": "86938e6b-08e9-4381-998a-ccd96026a52d",
   "metadata": {
    "jp-MarkdownHeadingCollapsed": true,
    "tags": []
   },
   "source": [
    "#### Module 0 work"
   ]
  },
  {
   "cell_type": "code",
   "execution_count": null,
   "id": "2dc9d1f1-b9f3-4b7c-ba9d-b84f1210f33a",
   "metadata": {},
   "outputs": [],
   "source": [
    "class Map():\n",
    "    \n",
    "    def __init__(self,geopackage_path):\n",
    "        self.roads = self._load_roads(geopackage_path)\n",
    "        self.graph = self._load_graph(geopackage_path)\n",
    "        \n",
    "    def _load_roads(self,geopackage_path):\n",
    "        # load map info\n",
    "        roads_gdf = gpd.read_file(geopackage_path, layer='edges')\n",
    "        # find traffic flow as vehicles per minute per lane\n",
    "        roads_gdf['traffic_flow'] = roads_gdf['aadt']/roads_gdf['lanes']/12/60 \n",
    "        # calculate current speed\n",
    "        roads_gdf['current_speed'] = roads_gdf['max_speed'] - (roads_gdf['max_speed'] / 220 ) * roads_gdf['traffic_flow']\n",
    "        roads_gdf['current_speed'] = max(roads_gdf['current_speed'], 0)\n",
    "        return roads_gdf\n",
    "    \n",
    "    def _load_graph(self, geopackage_path):\n",
    "        \n",
    "        # Load Info\n",
    "        roads_gdf = gpd.read_file(geopackage_path, layer='edges')\n",
    "        nodes_gdf = gpd.read_file(geopackage_path, layer='nodes')\n",
    "        \n",
    "        # Create a graph from the road network data\n",
    "        G = nx.Graph()\n",
    "        for i,row in roads_gdf.iterrows():\n",
    "            G.add_edge(row['node1_id'], row['node2_id'], weight=row['length'], roadid=row['road_id'])\n",
    "            pos = {\n",
    "            row['node1_id']: nodes_gdf.loc[row['node1_id'],'geometry'],\n",
    "            row['node2_id']: nodes_gdf.loc[row['node2_id'],'geometry']\n",
    "            }\n",
    "            nx.set_node_attributes(G, pos, 'geometry')\n",
    "    \n",
    "    \n",
    "    def Experience_Snow(self, inches_of_snow):\n",
    "        '''\n",
    "        Reduce the road max speed by 12% per inch of snow if not plowed.\n",
    "        Set all roads plow time to inf\n",
    "        '''\n",
    "        snow_effect = (1 - 0.12) ** inches_of_snow\n",
    "        self.roads['speed_after_snow'] = self.roads['current_speed']*= snow_effect\n",
    "        self.roads['plow_time'] = np.inf\n",
    "        \n",
    " "
   ]
  },
  {
   "cell_type": "code",
   "execution_count": null,
   "id": "37c36baf-0349-4e17-bb2a-8a20fa46a8be",
   "metadata": {
    "tags": []
   },
   "outputs": [],
   "source": [
    "roads_gdf"
   ]
  },
  {
   "cell_type": "code",
   "execution_count": null,
   "id": "c9158223-83bc-4e90-9484-7901b92b913a",
   "metadata": {},
   "outputs": [],
   "source": []
  },
  {
   "cell_type": "code",
   "execution_count": null,
   "id": "fca44f74-af2f-4115-817a-673cfed0218e",
   "metadata": {
    "tags": []
   },
   "outputs": [],
   "source": [
    "nodes_gdf = gpd.read_file(geopackage_path, layer='nodes')\n",
    "nodes_gdf.head(3)"
   ]
  },
  {
   "cell_type": "code",
   "execution_count": null,
   "id": "bada2656-daf3-4f3c-8512-91664caa92d2",
   "metadata": {
    "tags": []
   },
   "outputs": [],
   "source": [
    "nodes_gdf.loc[0,'geometry'].coords[0]"
   ]
  },
  {
   "cell_type": "code",
   "execution_count": null,
   "id": "b5da18fe-317e-4f14-a9bb-a691bcbf580b",
   "metadata": {
    "tags": []
   },
   "outputs": [],
   "source": [
    "roads_gdf = gpd.read_file(geopackage_path, layer='edges')\n",
    "roads_gdf.head(3)"
   ]
  },
  {
   "cell_type": "code",
   "execution_count": null,
   "id": "6adb9d34-f235-4218-8529-fba39a29100f",
   "metadata": {
    "tags": []
   },
   "outputs": [],
   "source": [
    "road_network = gpd.read_file(\"network_shapefile/edges.shp\")"
   ]
  },
  {
   "cell_type": "code",
   "execution_count": null,
   "id": "a5b90b1b-8d0a-4f3f-9e87-252224a1b7b4",
   "metadata": {},
   "outputs": [],
   "source": []
  },
  {
   "cell_type": "code",
   "execution_count": null,
   "id": "da2f5d43-7618-44d3-96a2-232badd3302b",
   "metadata": {
    "tags": []
   },
   "outputs": [],
   "source": [
    "road_network.head(3)"
   ]
  },
  {
   "cell_type": "code",
   "execution_count": null,
   "id": "baa06b85-750d-46f4-9728-29e1a7136b3c",
   "metadata": {},
   "outputs": [],
   "source": [
    "# Create a graph from the road network data\n",
    "    G = nx.Graph()\n",
    "    for row in road_network.itertuples():\n",
    "        G.add_edge(row[11], row.to, weight=row.length, osmid=row.osmid)\n",
    "        pos = {\n",
    "            row[11]: (row.geometry.bounds[0], row.geometry.bounds[1]),\n",
    "            row.to: (row.geometry.bounds[2], row.geometry.bounds[3])\n",
    "        }\n",
    "        nx.set_node_attributes(G, pos, 'geometry')"
   ]
  },
  {
   "cell_type": "code",
   "execution_count": null,
   "id": "9b334f12-c2c0-4f7f-9059-529811e4ea72",
   "metadata": {
    "tags": []
   },
   "outputs": [],
   "source": [
    "G = nx.Graph()\n",
    "for row in road_network.itertuples():\n",
    "    G.add_edge(row[11], row.to, weight=row.length, osmid=row.osmid)"
   ]
  },
  {
   "cell_type": "code",
   "execution_count": null,
   "id": "6acb2d73-e549-4e95-bf5a-5d5c252ab66a",
   "metadata": {
    "tags": []
   },
   "outputs": [],
   "source": [
    "print(G)"
   ]
  },
  {
   "cell_type": "code",
   "execution_count": null,
   "id": "d0cd11bf-b2ba-4da8-9591-eecfd68c12d2",
   "metadata": {
    "tags": []
   },
   "outputs": [],
   "source": [
    "row"
   ]
  },
  {
   "cell_type": "code",
   "execution_count": null,
   "id": "8538e24f-374e-41fc-b24e-72f770777ecb",
   "metadata": {
    "tags": []
   },
   "outputs": [],
   "source": [
    "row[11]"
   ]
  },
  {
   "cell_type": "code",
   "execution_count": null,
   "id": "8afc42c7-3203-4f85-82e8-b2056746a5c1",
   "metadata": {},
   "outputs": [],
   "source": []
  },
  {
   "cell_type": "markdown",
   "id": "80b29e76-4104-4154-95ce-901bfb933f61",
   "metadata": {},
   "source": [
    "#### Module 0 Run"
   ]
  },
  {
   "cell_type": "code",
   "execution_count": 6,
   "id": "63a06ca0-ad17-4612-835e-c0f264b2fd23",
   "metadata": {
    "tags": []
   },
   "outputs": [],
   "source": [
    "class Map():\n",
    "    \n",
    "    def __init__(self,geopackage_path):\n",
    "        self.roads = self._load_roads(geopackage_path)\n",
    "        self.graph = self._load_graph(geopackage_path)\n",
    "        \n",
    "    def _load_roads(self,geopackage_path):\n",
    "        # load map info\n",
    "        roads_gdf = gpd.read_file(geopackage_path, layer='edges')\n",
    "        # find traffic flow as vehicles per minute per lane\n",
    "        roads_gdf['traffic_flow'] = roads_gdf['aadt']/roads_gdf['lanes']/12/60 \n",
    "        # calculate current speed\n",
    "        roads_gdf['normal_speed'] = roads_gdf['max_speed'] - (roads_gdf['max_speed'] / 220 ) * roads_gdf['traffic_flow']\n",
    "        return roads_gdf\n",
    "    \n",
    "    def _load_graph(self, geopackage_path):\n",
    "        \n",
    "        # Load Info\n",
    "        roads_gdf = gpd.read_file(geopackage_path, layer='edges')\n",
    "        nodes_gdf = gpd.read_file(geopackage_path, layer='nodes')\n",
    "        \n",
    "        # Create a graph from the road network data\n",
    "        G = nx.Graph()\n",
    "        for i,row in roads_gdf.iterrows():\n",
    "            G.add_edge(row['node1_id'], row['node2_id'], weight=row['length'], roadid=row['road_id'])\n",
    "            pos = {\n",
    "            row['node1_id']: nodes_gdf.loc[row['node1_id'],'geometry'],\n",
    "            row['node2_id']: nodes_gdf.loc[row['node2_id'],'geometry']\n",
    "            }\n",
    "            nx.set_node_attributes(G, pos, 'geometry')\n",
    "        return G\n",
    "    \n",
    "    def Experience_Snow(self, inches_of_snow=4):\n",
    "        '''\n",
    "        Reduce the road max speed by 12% per inch of snow if not plowed.\n",
    "        Set all roads plow time to inf\n",
    "        '''\n",
    "        snow_effect = (1 - 0.12) ** inches_of_snow\n",
    "        self.roads['speed_after_snow'] = self.roads['normal_speed']* snow_effect\n",
    "        self.roads['plow_time'] = np.inf\n",
    "        \n",
    " "
   ]
  },
  {
   "cell_type": "code",
   "execution_count": 7,
   "id": "f82a9438-1a80-456d-ad85-b9bfdfc0045c",
   "metadata": {
    "tags": []
   },
   "outputs": [
    {
     "data": {
      "text/html": [
       "<div>\n",
       "<style scoped>\n",
       "    .dataframe tbody tr th:only-of-type {\n",
       "        vertical-align: middle;\n",
       "    }\n",
       "\n",
       "    .dataframe tbody tr th {\n",
       "        vertical-align: top;\n",
       "    }\n",
       "\n",
       "    .dataframe thead th {\n",
       "        text-align: right;\n",
       "    }\n",
       "</style>\n",
       "<table border=\"1\" class=\"dataframe\">\n",
       "  <thead>\n",
       "    <tr style=\"text-align: right;\">\n",
       "      <th></th>\n",
       "      <th>road_id</th>\n",
       "      <th>length</th>\n",
       "      <th>max_speed</th>\n",
       "      <th>aadt</th>\n",
       "      <th>lanes</th>\n",
       "      <th>node1_id</th>\n",
       "      <th>node2_id</th>\n",
       "      <th>geometry</th>\n",
       "      <th>traffic_flow</th>\n",
       "      <th>normal_speed</th>\n",
       "    </tr>\n",
       "  </thead>\n",
       "  <tbody>\n",
       "    <tr>\n",
       "      <th>0</th>\n",
       "      <td>4803</td>\n",
       "      <td>0.19</td>\n",
       "      <td>55</td>\n",
       "      <td>12605</td>\n",
       "      <td>3</td>\n",
       "      <td>119</td>\n",
       "      <td>133</td>\n",
       "      <td>LINESTRING (-83.74491 42.30368, -83.74487 42.3...</td>\n",
       "      <td>5.835648</td>\n",
       "      <td>53.541088</td>\n",
       "    </tr>\n",
       "    <tr>\n",
       "      <th>1</th>\n",
       "      <td>9072</td>\n",
       "      <td>0.03</td>\n",
       "      <td>35</td>\n",
       "      <td>3346</td>\n",
       "      <td>2</td>\n",
       "      <td>309</td>\n",
       "      <td>133</td>\n",
       "      <td>LINESTRING (-83.74336 42.30504, -83.74336 42.3...</td>\n",
       "      <td>2.323611</td>\n",
       "      <td>34.630335</td>\n",
       "    </tr>\n",
       "    <tr>\n",
       "      <th>2</th>\n",
       "      <td>9066</td>\n",
       "      <td>0.08</td>\n",
       "      <td>25</td>\n",
       "      <td>7692</td>\n",
       "      <td>2</td>\n",
       "      <td>417</td>\n",
       "      <td>119</td>\n",
       "      <td>LINESTRING (-83.74628 42.30430, -83.74613 42.3...</td>\n",
       "      <td>5.341667</td>\n",
       "      <td>24.392992</td>\n",
       "    </tr>\n",
       "    <tr>\n",
       "      <th>3</th>\n",
       "      <td>9125</td>\n",
       "      <td>0.15</td>\n",
       "      <td>55</td>\n",
       "      <td>12605</td>\n",
       "      <td>3</td>\n",
       "      <td>394</td>\n",
       "      <td>119</td>\n",
       "      <td>LINESTRING (-83.74639 42.30148, -83.74632 42.3...</td>\n",
       "      <td>5.835648</td>\n",
       "      <td>53.541088</td>\n",
       "    </tr>\n",
       "    <tr>\n",
       "      <th>4</th>\n",
       "      <td>9272</td>\n",
       "      <td>0.14</td>\n",
       "      <td>40</td>\n",
       "      <td>4069</td>\n",
       "      <td>1</td>\n",
       "      <td>413</td>\n",
       "      <td>119</td>\n",
       "      <td>LINESTRING (-83.74642 42.30466, -83.74517 42.3...</td>\n",
       "      <td>5.651389</td>\n",
       "      <td>38.972475</td>\n",
       "    </tr>\n",
       "  </tbody>\n",
       "</table>\n",
       "</div>"
      ],
      "text/plain": [
       "   road_id  length  max_speed   aadt  lanes  node1_id  node2_id  \\\n",
       "0     4803    0.19         55  12605      3       119       133   \n",
       "1     9072    0.03         35   3346      2       309       133   \n",
       "2     9066    0.08         25   7692      2       417       119   \n",
       "3     9125    0.15         55  12605      3       394       119   \n",
       "4     9272    0.14         40   4069      1       413       119   \n",
       "\n",
       "                                            geometry  traffic_flow  \\\n",
       "0  LINESTRING (-83.74491 42.30368, -83.74487 42.3...      5.835648   \n",
       "1  LINESTRING (-83.74336 42.30504, -83.74336 42.3...      2.323611   \n",
       "2  LINESTRING (-83.74628 42.30430, -83.74613 42.3...      5.341667   \n",
       "3  LINESTRING (-83.74639 42.30148, -83.74632 42.3...      5.835648   \n",
       "4  LINESTRING (-83.74642 42.30466, -83.74517 42.3...      5.651389   \n",
       "\n",
       "   normal_speed  \n",
       "0     53.541088  \n",
       "1     34.630335  \n",
       "2     24.392992  \n",
       "3     53.541088  \n",
       "4     38.972475  "
      ]
     },
     "execution_count": 7,
     "metadata": {},
     "output_type": "execute_result"
    }
   ],
   "source": [
    "M = Map('AA_Map_Final.gpkg')\n",
    "M.roads.head(5)"
   ]
  },
  {
   "cell_type": "code",
   "execution_count": 9,
   "id": "5c073fb0-1b82-45df-b94e-9a6b685ee886",
   "metadata": {
    "tags": []
   },
   "outputs": [
    {
     "data": {
      "text/plain": [
       "NodeView((119, 133, 309, 417, 394, 413, 252, 228, 65, 10, 334, 40, 218, 420, 253, 178, 259, 365, 189, 270, 150, 82, 132, 265, 393, 273, 128, 210, 414, 313, 103, 236, 89, 173, 197, 280, 403, 318, 75, 304, 234, 64, 289, 347, 53, 117, 209, 149, 1, 71, 157, 115, 406, 303, 51, 187, 207, 125, 107, 7, 3, 208, 57, 250, 242, 190, 397, 204, 267, 145, 134, 161, 277, 15, 249, 411, 18, 324, 62, 67, 47, 153, 415, 144, 201, 206, 327, 94, 335, 73, 22, 257, 317, 373, 93, 126, 263, 37, 76, 358, 91, 63, 354, 333, 419, 172, 308, 292, 345, 121, 290, 375, 102, 160, 239, 42, 118, 287, 361, 77, 141, 32, 155, 383, 262, 110, 388, 196, 179, 370, 193, 366, 367, 46, 258, 213, 297, 142, 108, 384, 401, 12, 288, 302, 194, 13, 237, 412, 295, 369, 321, 159, 17, 14, 162, 123, 284, 400, 200, 181, 44, 38, 29, 389, 248, 404, 151, 286, 283, 0, 332, 350, 346, 135, 56, 158, 169, 202, 353, 282, 359, 238, 171, 307, 409, 314, 165, 368, 95, 223, 114, 83, 407, 176, 360, 216, 322, 98, 266, 382, 342, 148, 52, 85, 405, 348, 116, 340, 30, 36, 68, 231, 112, 355, 86, 312, 399, 255, 88, 269, 74, 221, 272, 35, 131, 6, 84, 226, 9, 31, 21, 137, 167, 111, 199, 96, 235, 362, 275, 298, 402, 264, 301, 254, 251, 154, 175, 136, 296, 281, 241, 90, 174, 87, 300, 39, 184, 101, 109, 408, 391, 363, 320, 271, 185, 390, 291, 212, 106, 319, 379, 19, 343, 328, 260, 81, 224, 395, 230, 325, 25, 364, 122, 138, 146, 268, 378, 183, 20, 338, 418, 166, 27, 244, 217, 16, 410, 274, 376, 5, 374, 54, 243, 336, 341, 28, 182, 50, 398, 310, 70, 219, 100, 323, 60, 113, 247, 147, 222, 227, 240, 191, 80, 105, 195, 192, 377, 120, 170, 352, 357, 59, 278, 34, 386, 279, 23, 129, 45, 49, 66, 177, 163, 215, 61, 143, 211, 246, 55, 4, 130, 380, 339, 186, 78, 381, 69, 276, 26, 232, 337, 315, 416, 349, 33, 156, 329, 58, 299, 371, 256, 72, 330, 127, 139, 385, 205, 311, 41, 180, 306, 245, 356, 233, 8, 99, 48, 372, 293, 152, 11, 326, 104, 2, 43, 214, 396, 203, 225, 79, 387, 97, 316, 24, 124, 92, 261, 168, 140, 344, 331, 285, 164, 198, 305, 220, 351, 229, 188, 294, 392))"
      ]
     },
     "execution_count": 9,
     "metadata": {},
     "output_type": "execute_result"
    }
   ],
   "source": [
    "M.graph.nodes"
   ]
  },
  {
   "cell_type": "code",
   "execution_count": null,
   "id": "b881d4ba-6043-44bf-9d6d-7c64b395e56a",
   "metadata": {
    "tags": []
   },
   "outputs": [],
   "source": [
    "M.Experience_Snow(4)\n",
    "M.roads.head(5)"
   ]
  },
  {
   "cell_type": "code",
   "execution_count": null,
   "id": "03707069-318b-4847-ae6d-b9e02c2e6038",
   "metadata": {
    "tags": []
   },
   "outputs": [],
   "source": [
    "M.Experience_Snow(6)\n",
    "M.roads.head(5)"
   ]
  }
 ],
 "metadata": {
  "kernelspec": {
   "display_name": "Python 3 (ipykernel)",
   "language": "python",
   "name": "python3"
  },
  "language_info": {
   "codemirror_mode": {
    "name": "ipython",
    "version": 3
   },
   "file_extension": ".py",
   "mimetype": "text/x-python",
   "name": "python",
   "nbconvert_exporter": "python",
   "pygments_lexer": "ipython3",
   "version": "3.9.18"
  }
 },
 "nbformat": 4,
 "nbformat_minor": 5
}
