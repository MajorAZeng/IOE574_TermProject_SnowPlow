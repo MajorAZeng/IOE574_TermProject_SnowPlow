{
 "cells": [
  {
   "cell_type": "code",
   "execution_count": 1,
   "id": "750dac64-4004-4d3b-b04b-370eebf1865a",
   "metadata": {},
   "outputs": [],
   "source": [
    "from M4_Run_Simulation import Run_Simulation\n",
    "from M5_Post_Processing import Mean_Travel_Time_Stats, Est_Precision, Save_To_File\n",
    "import time"
   ]
  },
  {
   "cell_type": "code",
   "execution_count": null,
   "id": "6c1af4a6-4e2b-4b01-9461-ed3dfa663c9e",
   "metadata": {},
   "outputs": [],
   "source": [
    "# Make speed adjustment due to crossings and signals - Riley\n",
    "# Add travel time from house to nearest local node (stright distance, 10mph with reduction factor) - Chris "
   ]
  },
  {
   "cell_type": "markdown",
   "id": "cc469004-28ca-42c3-bf5b-ff636fce734d",
   "metadata": {},
   "source": [
    "### Case 1: No Snow"
   ]
  },
  {
   "cell_type": "code",
   "execution_count": 11,
   "id": "4368ef3b-d8ab-41ff-8dd5-fa03be076162",
   "metadata": {},
   "outputs": [
    {
     "name": "stderr",
     "output_type": "stream",
     "text": [
      "100%|███████████████████████████████████████| 1000/1000 [10:01<00:00,  1.66it/s]\n"
     ]
    },
    {
     "name": "stdout",
     "output_type": "stream",
     "text": [
      "Run time [min]:  10.248568467299144\n",
      "Mean Travel Time:  12.274709961023905\n",
      "95 Confidence Percision Width: 0.007020110217279897\n"
     ]
    }
   ],
   "source": [
    "##### Parameters #####\n",
    "map_info_path = 'Data/AA_Map_Final.gpkg'\n",
    "trip_origin_path = 'Data/your_locations.csv'\n",
    "trip_destination_path = 'Data/your_destinations.csv'\n",
    "\n",
    "snow_depth = 0\n",
    "simulation_hours = 4\n",
    "plow_num = 0\n",
    "plow_start_points = []\n",
    "plow_speed = 15\n",
    "\n",
    "result_file = 'Case1_1000RepRun.pkl'\n",
    "num_reps = 1000\n",
    "\n",
    "#### Run and Save Results ####\n",
    "start_time = time.time()\n",
    "Travel_Time_Record = Run_Simulation(map_info_path, trip_origin_path, trip_destination_path, \n",
    "                                    snow_depth, simulation_hours,\n",
    "                                    plow_num, plow_start_points, plow_speed, num_reps)  \n",
    "print(\"Run time [min]: \" , (time.time() - start_time)/60)\n",
    "Save_To_File(result_file, Travel_Time_Record, exist=False)\n",
    "\n",
    "#### Mean Travel Time Estimation and PercisioN ####\n",
    "# Find Means\n",
    "mean_tt_per_rep, mean_tt, std_tt = Mean_Travel_Time_Stats(Travel_Time_Record)\n",
    "# Calculate Percision\n",
    "est_precision = Est_Precision(0.95, num_reps, std_tt)\n",
    "# Read Results\n",
    "print('Mean Travel Time: ', mean_tt)\n",
    "print('95 Confidence Percision Width:', est_precision)"
   ]
  },
  {
   "cell_type": "markdown",
   "id": "bd085512-6a46-4c76-8cea-9c75dede73db",
   "metadata": {},
   "source": [
    "### Case 2: 4 Inch Snow No Plow"
   ]
  },
  {
   "cell_type": "code",
   "execution_count": 12,
   "id": "7ccd5fe0-909d-4585-8c61-46e1345b0079",
   "metadata": {},
   "outputs": [
    {
     "name": "stderr",
     "output_type": "stream",
     "text": [
      "100%|███████████████████████████████████████| 1000/1000 [09:57<00:00,  1.67it/s]\n"
     ]
    },
    {
     "name": "stdout",
     "output_type": "stream",
     "text": [
      "Run time [min]:  10.191992636521658\n",
      "Mean Travel Time:  15.253439105724935\n",
      "95 Confidence Percision Width: 0.007012546146784123\n"
     ]
    }
   ],
   "source": [
    "##### Parameters #####\n",
    "map_info_path = 'Data/AA_Map_Final.gpkg'\n",
    "trip_origin_path = 'Data/your_locations.csv'\n",
    "trip_destination_path = 'Data/your_destinations.csv'\n",
    "\n",
    "snow_depth = 4\n",
    "simulation_hours = 4\n",
    "plow_num = 0\n",
    "plow_start_points = []\n",
    "plow_speed = 15\n",
    "\n",
    "result_file = 'Case2_1000RepRun.pkl'\n",
    "num_reps = 1000\n",
    "\n",
    "#### Run and Save Results ####\n",
    "start_time = time.time()\n",
    "Travel_Time_Record = Run_Simulation(map_info_path, trip_origin_path, trip_destination_path, \n",
    "                                    snow_depth, simulation_hours,\n",
    "                                    plow_num, plow_start_points, plow_speed, num_reps)  \n",
    "print(\"Run time [min]: \" , (time.time() - start_time)/60)\n",
    "Save_To_File(result_file, Travel_Time_Record, exist=False)\n",
    "\n",
    "#### Mean Travel Time Estimation and PercisioN ####\n",
    "# Find Means\n",
    "mean_tt_per_rep, mean_tt, std_tt = Mean_Travel_Time_Stats(Travel_Time_Record)\n",
    "# Calculate Percision\n",
    "est_precision = Est_Precision(0.95, num_reps, std_tt)\n",
    "# Read Results\n",
    "print('Mean Travel Time: ', mean_tt)\n",
    "print('95 Confidence Percision Width:', est_precision)"
   ]
  },
  {
   "cell_type": "markdown",
   "id": "a34186e1-5b5a-4c75-8c34-e849da9046e4",
   "metadata": {},
   "source": [
    "### Case 3: 4 Inch Snow, 1 Plow from Center of Town"
   ]
  },
  {
   "cell_type": "code",
   "execution_count": 13,
   "id": "3cc08d5a-ec60-466e-a3af-fb1b5ad785ed",
   "metadata": {},
   "outputs": [
    {
     "name": "stderr",
     "output_type": "stream",
     "text": [
      "100%|███████████████████████████████████████| 1000/1000 [54:36<00:00,  3.28s/it]\n"
     ]
    },
    {
     "name": "stdout",
     "output_type": "stream",
     "text": [
      "Run time [min]:  54.84633055130641\n",
      "Mean Travel Time:  12.398257792227497\n",
      "95 Confidence Percision Width: 0.013302148549637474\n"
     ]
    }
   ],
   "source": [
    "##### Parameters #####\n",
    "map_info_path = 'Data/AA_Map_Final.gpkg'\n",
    "trip_origin_path = 'Data/your_locations.csv'\n",
    "trip_destination_path = 'Data/your_destinations.csv'\n",
    "\n",
    "snow_depth = 4\n",
    "simulation_hours = 4\n",
    "plow_num = 1\n",
    "plow_start_points = [123]\n",
    "plow_speed = 15\n",
    "\n",
    "result_file = 'Case3_1000RepRun.pkl'\n",
    "num_reps = 1000\n",
    "\n",
    "#### Run and Save Results ####\n",
    "start_time = time.time()\n",
    "Travel_Time_Record = Run_Simulation(map_info_path, trip_origin_path, trip_destination_path, \n",
    "                                    snow_depth, simulation_hours,\n",
    "                                    plow_num, plow_start_points, plow_speed, num_reps)  \n",
    "print(\"Run time [min]: \" , (time.time() - start_time)/60)\n",
    "Save_To_File(result_file, Travel_Time_Record, exist=False)\n",
    "\n",
    "#### Mean Travel Time Estimation and PercisioN ####\n",
    "# Find Means\n",
    "mean_tt_per_rep, mean_tt, std_tt = Mean_Travel_Time_Stats(Travel_Time_Record)\n",
    "# Calculate Percision\n",
    "est_precision = Est_Precision(0.95, num_reps, std_tt)\n",
    "# Read Results\n",
    "print('Mean Travel Time: ', mean_tt)\n",
    "print('95 Confidence Percision Width:', est_precision)"
   ]
  },
  {
   "cell_type": "markdown",
   "id": "db775f15-eded-4c36-bed6-efbf5d9dfe37",
   "metadata": {},
   "source": [
    "### Case 4: 4 Inch Snow, 2 Plows from Center of Town"
   ]
  },
  {
   "cell_type": "code",
   "execution_count": 14,
   "id": "b2264f3b-adbe-41fc-8266-ced8edd237ad",
   "metadata": {},
   "outputs": [
    {
     "name": "stderr",
     "output_type": "stream",
     "text": [
      "100%|███████████████████████████████████████| 1000/1000 [54:51<00:00,  3.29s/it]\n"
     ]
    },
    {
     "name": "stdout",
     "output_type": "stream",
     "text": [
      "Run time [min]:  55.092783478895825\n",
      "Mean Travel Time:  12.42793330899622\n",
      "95 Confidence Percision Width: 0.011263637813095287\n"
     ]
    }
   ],
   "source": [
    "##### Parameters #####\n",
    "map_info_path = 'Data/AA_Map_Final.gpkg'\n",
    "trip_origin_path = 'Data/your_locations.csv'\n",
    "trip_destination_path = 'Data/your_destinations.csv'\n",
    "\n",
    "snow_depth = 4\n",
    "simulation_hours = 4\n",
    "plow_num = 2\n",
    "plow_start_points = [288, 123]\n",
    "plow_speed = 15\n",
    "\n",
    "result_file = 'Case4_1000RepRun.pkl'\n",
    "num_reps = 1000\n",
    "\n",
    "#### Run and Save Results ####\n",
    "start_time = time.time()\n",
    "Travel_Time_Record = Run_Simulation(map_info_path, trip_origin_path, trip_destination_path, \n",
    "                                    snow_depth, simulation_hours,\n",
    "                                    plow_num, plow_start_points, plow_speed, num_reps)  \n",
    "print(\"Run time [min]: \" , (time.time() - start_time)/60)\n",
    "Save_To_File(result_file, Travel_Time_Record, exist=False)\n",
    "\n",
    "#### Mean Travel Time Estimation and PercisioN ####\n",
    "# Find Means\n",
    "mean_tt_per_rep, mean_tt, std_tt = Mean_Travel_Time_Stats(Travel_Time_Record)\n",
    "# Calculate Percision\n",
    "est_precision = Est_Precision(0.95, num_reps, std_tt)\n",
    "# Read Results\n",
    "print('Mean Travel Time: ', mean_tt)\n",
    "print('95 Confidence Percision Width:', est_precision)"
   ]
  },
  {
   "cell_type": "markdown",
   "id": "e278865a-44fc-484d-b3fe-772734731581",
   "metadata": {},
   "source": [
    "### Case 5: 4 Inch Snow, 2 Plows from UMich North Campus and Poineer High"
   ]
  },
  {
   "cell_type": "code",
   "execution_count": 15,
   "id": "cd94434e-c751-4c3e-a103-c51118be74bd",
   "metadata": {},
   "outputs": [
    {
     "name": "stderr",
     "output_type": "stream",
     "text": [
      "100%|███████████████████████████████████████| 1000/1000 [54:50<00:00,  3.29s/it]\n"
     ]
    },
    {
     "name": "stdout",
     "output_type": "stream",
     "text": [
      "Run time [min]:  55.08221027056376\n",
      "Mean Travel Time:  12.271252771673538\n",
      "95 Confidence Percision Width: 0.011436644441133645\n"
     ]
    }
   ],
   "source": [
    "##### Parameters #####\n",
    "map_info_path = 'Data/AA_Map_Final.gpkg'\n",
    "trip_origin_path = 'Data/your_locations.csv'\n",
    "trip_destination_path = 'Data/your_destinations.csv'\n",
    "\n",
    "snow_depth = 4\n",
    "simulation_hours = 4\n",
    "plow_num = 2\n",
    "plow_start_points = [218, 141]\n",
    "plow_speed = 15\n",
    "\n",
    "result_file = 'Case5_1000RepRun.pkl'\n",
    "num_reps = 1000\n",
    "\n",
    "#### Run and Save Results ####\n",
    "start_time = time.time()\n",
    "Travel_Time_Record = Run_Simulation(map_info_path, trip_origin_path, trip_destination_path, \n",
    "                                    snow_depth, simulation_hours,\n",
    "                                    plow_num, plow_start_points, plow_speed, num_reps)  \n",
    "print(\"Run time [min]: \" , (time.time() - start_time)/60)\n",
    "Save_To_File(result_file, Travel_Time_Record, exist=False)\n",
    "\n",
    "#### Mean Travel Time Estimation and PercisioN ####\n",
    "# Find Means\n",
    "mean_tt_per_rep, mean_tt, std_tt = Mean_Travel_Time_Stats(Travel_Time_Record)\n",
    "# Calculate Percision\n",
    "est_precision = Est_Precision(0.95, num_reps, std_tt)\n",
    "# Read Results\n",
    "print('Mean Travel Time: ', mean_tt)\n",
    "print('95 Confidence Percision Width:', est_precision)"
   ]
  }
 ],
 "metadata": {
  "kernelspec": {
   "display_name": "Python 3 (ipykernel)",
   "language": "python",
   "name": "python3"
  },
  "language_info": {
   "codemirror_mode": {
    "name": "ipython",
    "version": 3
   },
   "file_extension": ".py",
   "mimetype": "text/x-python",
   "name": "python",
   "nbconvert_exporter": "python",
   "pygments_lexer": "ipython3",
   "version": "3.9.18"
  }
 },
 "nbformat": 4,
 "nbformat_minor": 5
}
