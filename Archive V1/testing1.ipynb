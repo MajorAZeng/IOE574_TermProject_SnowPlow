{
 "cells": [
  {
   "cell_type": "code",
   "execution_count": 1,
   "metadata": {},
   "outputs": [],
   "source": [
    "from M0_Class_Map_Road import Map"
   ]
  },
  {
   "cell_type": "code",
   "execution_count": 2,
   "metadata": {},
   "outputs": [],
   "source": [
    "# Create a based map\n",
    "M = Map('Data/AA_Map_Final.gpkg')"
   ]
  },
  {
   "cell_type": "code",
   "execution_count": 3,
   "metadata": {},
   "outputs": [],
   "source": [
    "from M1_Trip_Generation_Module import Generate_Trips"
   ]
  },
  {
   "cell_type": "code",
   "execution_count": 4,
   "metadata": {},
   "outputs": [],
   "source": [
    "# Generate trips\n",
    "Generate_Trips(M, 'Data/your_locations.csv', 'Data/your_destinations.csv')"
   ]
  },
  {
   "cell_type": "code",
   "execution_count": 5,
   "metadata": {},
   "outputs": [
    {
     "name": "stdout",
     "output_type": "stream",
     "text": [
      "      start_latitude  start_longitude  destination_latitude  \\\n",
      "0         -83.710853        42.268169            -83.758339   \n",
      "1         -83.758339        42.248180            -83.710853   \n",
      "2         -83.698106        42.313415            -83.758339   \n",
      "3         -83.758339        42.248180            -83.698106   \n",
      "4         -83.707702        42.247368            -83.758339   \n",
      "...              ...              ...                   ...   \n",
      "7655      -83.758339        42.248180            -83.699070   \n",
      "7656      -83.737146        42.267328            -83.758339   \n",
      "7657      -83.758339        42.248180            -83.737146   \n",
      "7658      -83.716554        42.251551            -83.758339   \n",
      "7659      -83.758339        42.248180            -83.716554   \n",
      "\n",
      "      destination_longitude shortest_path duration  \n",
      "0                 42.248180             2       18  \n",
      "1                 42.268169             2       18  \n",
      "2                 42.248180             2       23  \n",
      "3                 42.313415             2       23  \n",
      "4                 42.248180             2       20  \n",
      "...                     ...           ...      ...  \n",
      "7655              42.304130             2       10  \n",
      "7656              42.248180             2       23  \n",
      "7657              42.267328             2       23  \n",
      "7658              42.248180             2       17  \n",
      "7659              42.251551             2       17  \n",
      "\n",
      "[7660 rows x 6 columns]\n"
     ]
    }
   ],
   "source": [
    "print(M.trips)"
   ]
  }
 ],
 "metadata": {
  "kernelspec": {
   "display_name": "Python 3",
   "language": "python",
   "name": "python3"
  },
  "language_info": {
   "codemirror_mode": {
    "name": "ipython",
    "version": 3
   },
   "file_extension": ".py",
   "mimetype": "text/x-python",
   "name": "python",
   "nbconvert_exporter": "python",
   "pygments_lexer": "ipython3",
   "version": "3.7.0"
  }
 },
 "nbformat": 4,
 "nbformat_minor": 2
}
