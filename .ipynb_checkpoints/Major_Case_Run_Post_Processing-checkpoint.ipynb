{
 "cells": [
  {
   "cell_type": "code",
   "execution_count": 6,
   "id": "750dac64-4004-4d3b-b04b-370eebf1865a",
   "metadata": {},
   "outputs": [],
   "source": [
    "from M4_Run_Simulation import Run_Simulation\n",
    "from M5_Post_Processing import Mean_Travel_Time_Stats, Est_Precision, Save_To_File\n",
    "import time"
   ]
  },
  {
   "cell_type": "code",
   "execution_count": null,
   "id": "8fdfc65d-a8a8-4675-bc85-01cca991f65e",
   "metadata": {},
   "outputs": [],
   "source": [
    "# when there is 0 plow, doesn't work\n",
    "# 4inch snow 2 plow is faster than no snow. Doesn't make sense\n",
    "# difference between cases is too small\n",
    "# too little uncertainty, the precision for 100 run is already too high"
   ]
  },
  {
   "cell_type": "code",
   "execution_count": null,
   "id": "6c1af4a6-4e2b-4b01-9461-ed3dfa663c9e",
   "metadata": {},
   "outputs": [],
   "source": []
  },
  {
   "cell_type": "code",
   "execution_count": null,
   "id": "9481a6e2-734d-4331-a4bf-b32ecd4b6c9f",
   "metadata": {},
   "outputs": [],
   "source": []
  },
  {
   "cell_type": "markdown",
   "id": "cc469004-28ca-42c3-bf5b-ff636fce734d",
   "metadata": {
    "jp-MarkdownHeadingCollapsed": true
   },
   "source": [
    "### Case 1 Simulation"
   ]
  },
  {
   "cell_type": "markdown",
   "id": "026a2106-48ca-4899-a4fd-5ab5a8025a77",
   "metadata": {},
   "source": [
    "#### Parameters"
   ]
  },
  {
   "cell_type": "code",
   "execution_count": 12,
   "id": "96cedf5c-80eb-455e-afc1-0894759b0d2f",
   "metadata": {},
   "outputs": [],
   "source": [
    "map_info_path = 'Data/AA_Map_Final.gpkg'\n",
    "snow_depth = 0\n",
    "\n",
    "trip_origin_path = 'Data/your_locations.csv'\n",
    "trip_destination_path = 'Data/your_destinations.csv'\n",
    "\n",
    "simulation_hours = 4\n",
    "\n",
    "plow_num = 1\n",
    "plow_start_points = [151]\n",
    "plow_speed = 15 \n",
    "plow_time = 240\n",
    "\n",
    "result_file = 'Case1_Run1.pkl'\n",
    "num_reps = 100"
   ]
  },
  {
   "cell_type": "markdown",
   "id": "3c62855f-b6ff-4a96-af41-09fad6d69351",
   "metadata": {},
   "source": [
    "#### Run and Save Results"
   ]
  },
  {
   "cell_type": "code",
   "execution_count": 13,
   "id": "4f05b506-3141-4962-bc70-9cbbbc38dde2",
   "metadata": {},
   "outputs": [
    {
     "name": "stderr",
     "output_type": "stream",
     "text": [
      "100%|█████████████████████████████████████████| 100/100 [06:18<00:00,  3.79s/it]"
     ]
    },
    {
     "name": "stdout",
     "output_type": "stream",
     "text": [
      "---Run time 392.6636998653412 seconds ---\n"
     ]
    },
    {
     "name": "stderr",
     "output_type": "stream",
     "text": [
      "\n"
     ]
    }
   ],
   "source": [
    "start_time = time.time()\n",
    "\n",
    "# run\n",
    "Travel_Time_Record = Run_Simulation(map_info_path, trip_origin_path, trip_destination_path, simulation_hours,\n",
    "                        plow_num, plow_start_points, plow_speed, num_reps)  \n",
    "\n",
    "print(\"---Run time %s seconds ---\" % (time.time() - start_time))\n",
    "\n",
    "# Save Results\n",
    "Save_To_File(result_file, Travel_Time_Record, exist=False)"
   ]
  },
  {
   "cell_type": "markdown",
   "id": "80813024-08c6-4000-9bea-cdf670647923",
   "metadata": {},
   "source": [
    "#### Mean Travel Time Estimation and Percision"
   ]
  },
  {
   "cell_type": "code",
   "execution_count": 14,
   "id": "6aebb26e-38df-4f60-99b1-03faeefa7f8c",
   "metadata": {},
   "outputs": [
    {
     "name": "stdout",
     "output_type": "stream",
     "text": [
      "Mean Travel Time:  4.126718324074615\n",
      "95 Confidence Percision Width: 0.04276998757180901\n"
     ]
    }
   ],
   "source": [
    "# Find Means\n",
    "mean_tt_per_rep, mean_tt, std_tt = Mean_Travel_Time_Stats(Travel_Time_Record)\n",
    "\n",
    "# Calculate Percision\n",
    "est_precision = Est_Precision(0.95, num_reps, std_tt)\n",
    "\n",
    "# Read Results\n",
    "print('Mean Travel Time: ', mean_tt)\n",
    "print('95 Confidence Percision Width:', est_precision)"
   ]
  },
  {
   "cell_type": "code",
   "execution_count": null,
   "id": "4368ef3b-d8ab-41ff-8dd5-fa03be076162",
   "metadata": {},
   "outputs": [],
   "source": []
  },
  {
   "cell_type": "markdown",
   "id": "bd085512-6a46-4c76-8cea-9c75dede73db",
   "metadata": {
    "jp-MarkdownHeadingCollapsed": true
   },
   "source": [
    "### Case 2 Simulation"
   ]
  },
  {
   "cell_type": "code",
   "execution_count": 15,
   "id": "9ab4841a-1df6-4ada-ae54-5702a9116f7c",
   "metadata": {},
   "outputs": [
    {
     "name": "stderr",
     "output_type": "stream",
     "text": [
      "  0%|                                                   | 0/100 [01:02<?, ?it/s]\n"
     ]
    },
    {
     "ename": "KeyboardInterrupt",
     "evalue": "",
     "output_type": "error",
     "traceback": [
      "\u001b[0;31m---------------------------------------------------------------------------\u001b[0m",
      "\u001b[0;31mKeyboardInterrupt\u001b[0m                         Traceback (most recent call last)",
      "Cell \u001b[0;32mIn[15], line 16\u001b[0m\n\u001b[1;32m     14\u001b[0m \u001b[38;5;66;03m# Run\u001b[39;00m\n\u001b[1;32m     15\u001b[0m start_time \u001b[38;5;241m=\u001b[39m time\u001b[38;5;241m.\u001b[39mtime()\n\u001b[0;32m---> 16\u001b[0m Travel_Time_Record \u001b[38;5;241m=\u001b[39m \u001b[43mRun_Simulation\u001b[49m\u001b[43m(\u001b[49m\u001b[43mmap_info_path\u001b[49m\u001b[43m,\u001b[49m\u001b[43m \u001b[49m\u001b[43mtrip_origin_path\u001b[49m\u001b[43m,\u001b[49m\u001b[43m \u001b[49m\u001b[43mtrip_destination_path\u001b[49m\u001b[43m,\u001b[49m\u001b[43m \u001b[49m\u001b[43msimulation_hours\u001b[49m\u001b[43m,\u001b[49m\n\u001b[1;32m     17\u001b[0m \u001b[43m                        \u001b[49m\u001b[43mplow_num\u001b[49m\u001b[43m,\u001b[49m\u001b[43m \u001b[49m\u001b[43mplow_start_points\u001b[49m\u001b[43m,\u001b[49m\u001b[43m \u001b[49m\u001b[43mplow_speed\u001b[49m\u001b[43m,\u001b[49m\u001b[43m \u001b[49m\u001b[43mnum_reps\u001b[49m\u001b[43m)\u001b[49m  \n\u001b[1;32m     18\u001b[0m \u001b[38;5;28mprint\u001b[39m(\u001b[38;5;124m\"\u001b[39m\u001b[38;5;124m---Run time \u001b[39m\u001b[38;5;132;01m%s\u001b[39;00m\u001b[38;5;124m seconds ---\u001b[39m\u001b[38;5;124m\"\u001b[39m \u001b[38;5;241m%\u001b[39m (time\u001b[38;5;241m.\u001b[39mtime() \u001b[38;5;241m-\u001b[39m start_time))\n\u001b[1;32m     20\u001b[0m \u001b[38;5;66;03m# Mean Travel Time Estimation and Percision\u001b[39;00m\n",
      "File \u001b[0;32m~/Desktop/IOE574_TermProject_SnowPlow/M4_Run_Simulation.py:32\u001b[0m, in \u001b[0;36mRun_Simulation\u001b[0;34m(map_info_path, trip_origin_path, trip_destination_path, simulation_hours, plow_num, plow_start_points, plow_speed, num_reps)\u001b[0m\n\u001b[1;32m     28\u001b[0m M_rep \u001b[38;5;241m=\u001b[39m copy\u001b[38;5;241m.\u001b[39mdeepcopy(M)\n\u001b[1;32m     30\u001b[0m \u001b[38;5;66;03m# Module 2\u001b[39;00m\n\u001b[1;32m     31\u001b[0m \u001b[38;5;66;03m# Simulation Plowing Time\u001b[39;00m\n\u001b[0;32m---> 32\u001b[0m \u001b[43mRun_Snowplow_Simulation\u001b[49m\u001b[43m(\u001b[49m\u001b[43mplow_num\u001b[49m\u001b[43m,\u001b[49m\u001b[43m \u001b[49m\u001b[43mplow_start_points\u001b[49m\u001b[43m,\u001b[49m\u001b[43m \u001b[49m\u001b[43mplow_speed\u001b[49m\u001b[43m,\u001b[49m\u001b[43m \u001b[49m\u001b[43mM_rep\u001b[49m\u001b[43m,\u001b[49m\u001b[43m \u001b[49m\u001b[43msimulation_hours\u001b[49m\u001b[43m)\u001b[49m\n\u001b[1;32m     34\u001b[0m \u001b[38;5;66;03m# Module 3\u001b[39;00m\n\u001b[1;32m     35\u001b[0m travel_time \u001b[38;5;241m=\u001b[39m Run_Travel_Simulation(M_rep)\n",
      "File \u001b[0;32m~/Desktop/IOE574_TermProject_SnowPlow/M2_Plowing_Simulatoin_Module.py:42\u001b[0m, in \u001b[0;36mRun_Snowplow_Simulation\u001b[0;34m(num_plows, start_nodes, plow_speed, map_instance, sim_hours)\u001b[0m\n\u001b[1;32m     35\u001b[0m current_time \u001b[38;5;241m=\u001b[39m \u001b[38;5;241m0\u001b[39m  \u001b[38;5;66;03m# Start at time 0\u001b[39;00m\n\u001b[1;32m     37\u001b[0m \u001b[38;5;66;03m# Print initial conditions\u001b[39;00m\n\u001b[1;32m     38\u001b[0m \u001b[38;5;66;03m# print(f\"Starting simulation with {num_plows} snowplows\")\u001b[39;00m\n\u001b[1;32m     39\u001b[0m \u001b[38;5;66;03m# for i, plow in enumerate(snowplows):\u001b[39;00m\n\u001b[1;32m     40\u001b[0m \u001b[38;5;66;03m#     print(f\"Snowplow {i+1} starting at node {plow['current_node']}\")\u001b[39;00m\n\u001b[0;32m---> 42\u001b[0m \u001b[38;5;28;01mwhile\u001b[39;00m current_time \u001b[38;5;241m<\u001b[39m \u001b[43msim_hours\u001b[49m\u001b[38;5;241;43m*\u001b[39;49m\u001b[38;5;241;43m60\u001b[39;49m:  \u001b[38;5;66;03m# Direct comparison with minutes\u001b[39;00m\n\u001b[1;32m     43\u001b[0m     \u001b[38;5;28;01mfor\u001b[39;00m plow \u001b[38;5;129;01min\u001b[39;00m snowplows:\n\u001b[1;32m     44\u001b[0m         edge \u001b[38;5;241m=\u001b[39m choose_edge(plow[\u001b[38;5;124m'\u001b[39m\u001b[38;5;124mcurrent_node\u001b[39m\u001b[38;5;124m'\u001b[39m])\n",
      "\u001b[0;31mKeyboardInterrupt\u001b[0m: "
     ]
    }
   ],
   "source": [
    "# Parameters\n",
    "map_info_path = 'Data/AA_Map_Final.gpkg'\n",
    "snow_depth = 4\n",
    "trip_origin_path = 'Data/your_locations.csv'\n",
    "trip_destination_path = 'Data/your_destinations.csv'\n",
    "simulation_hours = 4\n",
    "plow_num = 0\n",
    "plow_start_points = []\n",
    "plow_speed = 15 \n",
    "plow_time = 240\n",
    "result_file = 'Case2_Run1.pkl'\n",
    "num_reps = 100\n",
    "\n",
    "# Run\n",
    "start_time = time.time()\n",
    "Travel_Time_Record = Run_Simulation(map_info_path, trip_origin_path, trip_destination_path, simulation_hours,\n",
    "                        plow_num, plow_start_points, plow_speed, num_reps)  \n",
    "print(\"---Run time %s seconds ---\" % (time.time() - start_time))\n",
    "\n",
    "# Mean Travel Time Estimation and Percision\n",
    "mean_tt_per_rep, mean_tt, std_tt = Mean_Travel_Time_Stats(Travel_Time_Record)\n",
    "est_precision = Est_Precision(0.95, num_reps, std_tt)\n",
    "print('Mean Travel Time: ', mean_tt)\n",
    "print('95 Confidence Percision Width:', est_precision)"
   ]
  },
  {
   "cell_type": "code",
   "execution_count": 16,
   "id": "7ccd5fe0-909d-4585-8c61-46e1345b0079",
   "metadata": {},
   "outputs": [],
   "source": [
    "# there is problem about 0 snow plow"
   ]
  },
  {
   "cell_type": "markdown",
   "id": "a34186e1-5b5a-4c75-8c34-e849da9046e4",
   "metadata": {
    "jp-MarkdownHeadingCollapsed": true
   },
   "source": [
    "### Case 3 Simulation"
   ]
  },
  {
   "cell_type": "markdown",
   "id": "fbc0de9e-ce7b-4fd9-aea8-ac544e18e1e3",
   "metadata": {},
   "source": [
    "#### Parameters"
   ]
  },
  {
   "cell_type": "code",
   "execution_count": 8,
   "id": "3cc08d5a-ec60-466e-a3af-fb1b5ad785ed",
   "metadata": {},
   "outputs": [],
   "source": [
    "map_info_path = 'Data/AA_Map_Final.gpkg'\n",
    "snow_depth = 4\n",
    "\n",
    "trip_origin_path = 'Data/your_locations.csv'\n",
    "trip_destination_path = 'Data/your_destinations.csv'\n",
    "\n",
    "simulation_hours = 4\n",
    "\n",
    "plow_num = 1\n",
    "plow_start_points = [151]\n",
    "plow_speed = 15 \n",
    "plow_time = 240\n",
    "\n",
    "result_file = 'Case3_Run3.pkl'\n",
    "num_reps = 100"
   ]
  },
  {
   "cell_type": "markdown",
   "id": "612c9d78-5790-4e70-9077-cc2db322a88f",
   "metadata": {},
   "source": [
    "#### Run and Save Results"
   ]
  },
  {
   "cell_type": "code",
   "execution_count": 9,
   "id": "9c0599ed-4212-4ec3-a2bd-5e3199d9e9b1",
   "metadata": {},
   "outputs": [
    {
     "name": "stderr",
     "output_type": "stream",
     "text": [
      "100%|█████████████████████████████████████████| 100/100 [06:17<00:00,  3.78s/it]"
     ]
    },
    {
     "name": "stdout",
     "output_type": "stream",
     "text": [
      "---Run time 391.04967403411865 seconds ---\n"
     ]
    },
    {
     "name": "stderr",
     "output_type": "stream",
     "text": [
      "\n"
     ]
    }
   ],
   "source": [
    "start_time = time.time()\n",
    "\n",
    "# run\n",
    "Travel_Time_Record = Run_Simulation(map_info_path, trip_origin_path, trip_destination_path, simulation_hours,\n",
    "                        plow_num, plow_start_points, plow_speed, num_reps)  \n",
    "\n",
    "print(\"---Run time %s seconds ---\" % (time.time() - start_time))"
   ]
  },
  {
   "cell_type": "code",
   "execution_count": 10,
   "id": "488d33be-6dc5-41c8-94f3-7e1eebdb4e8a",
   "metadata": {},
   "outputs": [],
   "source": [
    "# Save Results\n",
    "Save_To_File(result_file, Travel_Time_Record, exist=False)"
   ]
  },
  {
   "cell_type": "markdown",
   "id": "b5fc9e72-cd74-49a7-b857-53f4cb2e3c03",
   "metadata": {},
   "source": [
    "#### Mean Travel Time Estimation and Percision"
   ]
  },
  {
   "cell_type": "code",
   "execution_count": 11,
   "id": "dc8cfe6b-98bf-4e82-a59d-83fa29b68fbe",
   "metadata": {},
   "outputs": [
    {
     "name": "stdout",
     "output_type": "stream",
     "text": [
      "Mean Travel Time:  4.160206494670579\n",
      "95 Confidence Percision Width: 0.03519042776848953\n"
     ]
    }
   ],
   "source": [
    "# Find Means\n",
    "mean_tt_per_rep, mean_tt, std_tt = Mean_Travel_Time_Stats(Travel_Time_Record)\n",
    "\n",
    "# Calculate Percision\n",
    "est_precision = Est_Precision(0.95, num_reps, std_tt)\n",
    "\n",
    "# Read Results\n",
    "print('Mean Travel Time: ', mean_tt)\n",
    "print('95 Confidence Percision Width:', est_precision)"
   ]
  },
  {
   "cell_type": "code",
   "execution_count": null,
   "id": "ee25f885-aeaa-48ba-9583-6e89cb54fe6e",
   "metadata": {},
   "outputs": [],
   "source": []
  },
  {
   "cell_type": "markdown",
   "id": "e278865a-44fc-484d-b3fe-772734731581",
   "metadata": {
    "jp-MarkdownHeadingCollapsed": true
   },
   "source": [
    "### Case 5 Simulation"
   ]
  },
  {
   "cell_type": "code",
   "execution_count": 17,
   "id": "cd94434e-c751-4c3e-a103-c51118be74bd",
   "metadata": {},
   "outputs": [
    {
     "name": "stderr",
     "output_type": "stream",
     "text": [
      "100%|█████████████████████████████████████████| 100/100 [06:22<00:00,  3.82s/it]"
     ]
    },
    {
     "name": "stdout",
     "output_type": "stream",
     "text": [
      "---Run time 396.28751516342163 seconds ---\n",
      "Mean Travel Time:  3.959920466681885\n",
      "95 Confidence Percision Width: 0.03557159887089906\n"
     ]
    },
    {
     "name": "stderr",
     "output_type": "stream",
     "text": [
      "\n"
     ]
    }
   ],
   "source": [
    "# Parameters\n",
    "map_info_path = 'Data/AA_Map_Final.gpkg'\n",
    "snow_depth = 4\n",
    "trip_origin_path = 'Data/your_locations.csv'\n",
    "trip_destination_path = 'Data/your_destinations.csv'\n",
    "simulation_hours = 4\n",
    "plow_num = 2\n",
    "plow_start_points = [218, 141]\n",
    "plow_speed = 15 \n",
    "plow_time = 240\n",
    "result_file = 'Case5_Run1.pkl'\n",
    "num_reps = 100\n",
    "\n",
    "# Run\n",
    "start_time = time.time()\n",
    "Travel_Time_Record = Run_Simulation(map_info_path, trip_origin_path, trip_destination_path, simulation_hours,\n",
    "                        plow_num, plow_start_points, plow_speed, num_reps)  \n",
    "print(\"---Run time %s seconds ---\" % (time.time() - start_time))\n",
    "\n",
    "# Mean Travel Time Estimation and Percision\n",
    "mean_tt_per_rep, mean_tt, std_tt = Mean_Travel_Time_Stats(Travel_Time_Record)\n",
    "est_precision = Est_Precision(0.95, num_reps, std_tt)\n",
    "print('Mean Travel Time: ', mean_tt)\n",
    "print('95 Confidence Percision Width:', est_precision)"
   ]
  }
 ],
 "metadata": {
  "kernelspec": {
   "display_name": "Python 3 (ipykernel)",
   "language": "python",
   "name": "python3"
  },
  "language_info": {
   "codemirror_mode": {
    "name": "ipython",
    "version": 3
   },
   "file_extension": ".py",
   "mimetype": "text/x-python",
   "name": "python",
   "nbconvert_exporter": "python",
   "pygments_lexer": "ipython3",
   "version": "3.9.18"
  }
 },
 "nbformat": 4,
 "nbformat_minor": 5
}
