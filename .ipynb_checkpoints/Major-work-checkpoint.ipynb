{
 "cells": [
  {
   "cell_type": "markdown",
   "id": "7aadc5c8-e301-420f-838f-70a38e93508f",
   "metadata": {
    "tags": []
   },
   "source": [
    "#### Module 0 Map Generation"
   ]
  },
  {
   "cell_type": "code",
   "execution_count": 1,
   "id": "d675c7cd-f78d-487e-b21e-2c3be8ebb874",
   "metadata": {
    "tags": []
   },
   "outputs": [],
   "source": [
    "from M0_Class_Map_Road import Map"
   ]
  },
  {
   "cell_type": "code",
   "execution_count": 2,
   "id": "9c683262-0569-464a-a201-74d3684b9c45",
   "metadata": {
    "tags": []
   },
   "outputs": [],
   "source": [
    "# Create a based map\n",
    "M = Map('Data/AA_Map_Final.gpkg')\n",
    "# Experience a snow event\n",
    "M.Experience_Snow(6)"
   ]
  },
  {
   "cell_type": "markdown",
   "id": "048f84f1-c768-4f9e-8076-b90454fe0d33",
   "metadata": {
    "tags": []
   },
   "source": [
    "#### Module 1 Trip Simulation"
   ]
  },
  {
   "cell_type": "code",
   "execution_count": 5,
   "id": "243fab9c-85fa-406f-9ce8-5c6d6feaed3d",
   "metadata": {
    "tags": []
   },
   "outputs": [],
   "source": [
    "from M1_Trip_Generation_Module import Generate_Trips\n",
    "import time"
   ]
  },
  {
   "cell_type": "code",
   "execution_count": 6,
   "id": "f144fd85-15a3-44c5-b173-233d6dc7999b",
   "metadata": {
    "tags": []
   },
   "outputs": [
    {
     "name": "stdout",
     "output_type": "stream",
     "text": [
      "--- 46.03388214111328 seconds ---\n"
     ]
    }
   ],
   "source": [
    "#\n",
    "start_time = time.time()\n",
    "# Generate trips\n",
    "Generate_Trips(M, 'Data/your_locations.csv', 'Data/your_destinations.csv')\n",
    "#\n",
    "print(\"--- %s seconds ---\" % (time.time() - start_time))"
   ]
  },
  {
   "cell_type": "markdown",
   "id": "9b110569-255a-4d84-b2af-58a34ac7f6d1",
   "metadata": {},
   "source": [
    "#### Module 2 Plowing Simulation"
   ]
  },
  {
   "cell_type": "code",
   "execution_count": 10,
   "id": "e0258477-310c-4566-8316-707b63ce730a",
   "metadata": {
    "tags": []
   },
   "outputs": [],
   "source": [
    "from M2_Plowing_Simulatoin_Module import Run_Snowplow_Simulation"
   ]
  },
  {
   "cell_type": "code",
   "execution_count": 20,
   "id": "7bebcebc-3eaa-4bd4-aa2a-598c62099f70",
   "metadata": {
    "tags": []
   },
   "outputs": [
    {
     "name": "stdout",
     "output_type": "stream",
     "text": [
      "--- 60.659099102020264 seconds ---\n"
     ]
    }
   ],
   "source": [
    "#\n",
    "start_time = time.time()\n",
    "# Simulation Plowing Time\n",
    "Run_Snowplow_Simulation(1, [310], 35, M, 720)\n",
    "#\n",
    "print(\"--- %s seconds ---\" % (time.time() - start_time))"
   ]
  },
  {
   "cell_type": "markdown",
   "id": "823bb448-f280-447c-a9cd-dd8a9da62509",
   "metadata": {},
   "source": [
    "#### Module 3 Travel Simulation"
   ]
  },
  {
   "cell_type": "code",
   "execution_count": null,
   "id": "d88be43f-1c68-4d90-9501-2b36bac5727f",
   "metadata": {},
   "outputs": [],
   "source": []
  }
 ],
 "metadata": {
  "kernelspec": {
   "display_name": "Python 3 (ipykernel)",
   "language": "python",
   "name": "python3"
  },
  "language_info": {
   "codemirror_mode": {
    "name": "ipython",
    "version": 3
   },
   "file_extension": ".py",
   "mimetype": "text/x-python",
   "name": "python",
   "nbconvert_exporter": "python",
   "pygments_lexer": "ipython3",
   "version": "3.9.18"
  }
 },
 "nbformat": 4,
 "nbformat_minor": 5
}
