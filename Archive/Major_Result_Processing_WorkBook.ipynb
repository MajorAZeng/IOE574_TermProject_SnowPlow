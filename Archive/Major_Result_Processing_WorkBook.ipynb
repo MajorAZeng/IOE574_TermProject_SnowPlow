{
 "cells": [
  {
   "cell_type": "code",
   "execution_count": null,
   "id": "9035a989-ddea-49c9-8f2e-189866e88e2d",
   "metadata": {
    "tags": []
   },
   "outputs": [],
   "source": [
    "import pickle\n",
    "import numpy as np\n",
    "import matplotlib.pyplot as plt"
   ]
  },
  {
   "cell_type": "code",
   "execution_count": null,
   "id": "b1bd7e82-6312-4dfa-aafb-db60fef94297",
   "metadata": {
    "tags": []
   },
   "outputs": [],
   "source": [
    "from M5_Post_Processing import Diff_Travel_Time_Stats"
   ]
  },
  {
   "cell_type": "markdown",
   "id": "e4912f8e-5055-47ca-ad76-6b1a7d4948f1",
   "metadata": {
    "jp-MarkdownHeadingCollapsed": true,
    "tags": []
   },
   "source": [
    "### Diff Results"
   ]
  },
  {
   "cell_type": "code",
   "execution_count": null,
   "id": "3646b19a-1fae-48d9-9159-65a996fd7fb6",
   "metadata": {
    "tags": []
   },
   "outputs": [],
   "source": [
    "result_1 = \"Result_Final1000/Case2_1000Rep_Final1000_TravelTime.pkl\"\n",
    "result_2 = \"Result_Final1000/Case3_1000Rep_Final1000_TravelTime.pkl\""
   ]
  },
  {
   "cell_type": "code",
   "execution_count": null,
   "id": "6b7f6dcd-f89a-42ef-a21f-1a99ee38be2c",
   "metadata": {
    "tags": []
   },
   "outputs": [],
   "source": [
    "diff_mean = Diff_Travel_Time_Stats (result_1, result_2)"
   ]
  },
  {
   "cell_type": "code",
   "execution_count": null,
   "id": "4675bf00-47c0-4086-8196-d54e7702532a",
   "metadata": {
    "tags": []
   },
   "outputs": [],
   "source": [
    "result_1 = \"Result_Final1000/Case2_1000Rep_Final1000_TravelTime.pkl\"\n",
    "result_2 = \"Result_Final1000/Case5_1000Rep_Final1000_TravelTime.pkl\"\n",
    "diff_mean = Diff_Travel_Time_Stats (result_1, result_2)\n",
    "\n",
    "# Plot\n",
    "plt.hist(diff_mean, bins=20, color='skyblue', edgecolor='black')\n",
    "plt.axvline(np.mean(diff_mean), color='r', linestyle='dashed', linewidth=3)\n",
    "plt.xlabel('Difference in Mean Travel Time [min]')\n",
    "plt.ylabel('Frequency')\n",
    "plt.title('Case 2 - Case 5')\n",
    "plt.show()\n",
    "# \n",
    "print(\"Mean of Difference in Mean Travel Time:\", np.mean(diff_mean))\n",
    "print(\"Variance of Difference in Mean Travel Time:\",np.std(diff_mean, ddof=1)**2)"
   ]
  },
  {
   "cell_type": "code",
   "execution_count": null,
   "id": "97831929-8953-48c2-a345-98272d3bc1b2",
   "metadata": {
    "tags": []
   },
   "outputs": [],
   "source": [
    "diff_mean"
   ]
  },
  {
   "cell_type": "code",
   "execution_count": null,
   "id": "48704c12-d4e3-4821-bb75-421495dd949c",
   "metadata": {},
   "outputs": [],
   "source": []
  },
  {
   "cell_type": "code",
   "execution_count": null,
   "id": "f6ffdcdc-903c-4d9c-909c-6982b9fec093",
   "metadata": {
    "tags": []
   },
   "outputs": [],
   "source": [
    "fig, axes = plt.subplots(nrows=1, ncols=3, figsize=(15, 4))\n",
    "for j in [3,4,5]:\n",
    "    ax = axes[j-3]\n",
    "    result_1 = \"Result_Final1000/Case2_1000Rep_Final1000_TravelTime.pkl\"\n",
    "    result_2 = \"Result_Final1000/Case\"+str(j)+\"_1000Rep_Final1000_TravelTime.pkl\"\n",
    "    diff_mean = Diff_Travel_Time_Stats (result_1, result_2)\n",
    "    ax.hist(diff_mean, bins=20, color='skyblue', edgecolor='black')\n",
    "    ax.axvline(np.mean(diff_mean), color='r', linestyle='dashed', linewidth=2)\n",
    "    ax.set_xlabel('Difference in Mean Travel Time [min]')\n",
    "    ax.set_ylabel('Frequency')\n",
    "    ax.title.set_text('Case 2 - Case '+str(j))\n",
    "        "
   ]
  },
  {
   "cell_type": "code",
   "execution_count": null,
   "id": "84ff3f42-2373-4787-ab9f-78fd21ea05b2",
   "metadata": {
    "tags": []
   },
   "outputs": [],
   "source": [
    "fig, axes = plt.subplots(nrows=1, ncols=3, figsize=(15, 4))\n",
    "for i, j in [[3,4],[4,5],[5,3]]:\n",
    "    ax = axes[j-3]\n",
    "    result_1 = \"Result_Final1000/Case\"+str(i)+\"_1000Rep_Final1000_TravelTime.pkl\"\n",
    "    result_2 = \"Result_Final1000/Case\"+str(j)+\"_1000Rep_Final1000_TravelTime.pkl\"\n",
    "    diff_mean = Diff_Travel_Time_Stats (result_1, result_2)\n",
    "    ax.hist(diff_mean, bins=20, color='skyblue', edgecolor='black')\n",
    "    ax.axvline(np.mean(diff_mean), color='r', linestyle='dashed', linewidth=2)\n",
    "    ax.set_xlabel('Difference in Mean Travel Time [min]')\n",
    "    ax.set_ylabel('Frequency')\n",
    "    ax.title.set_text('Case '+str(i)+' - Case '+str(j))"
   ]
  },
  {
   "cell_type": "code",
   "execution_count": null,
   "id": "7c467e69-51b0-493d-a84d-6c76a5a36d68",
   "metadata": {},
   "outputs": [],
   "source": []
  },
  {
   "cell_type": "markdown",
   "id": "62611744-805f-43da-a2c9-b0ed63297a9d",
   "metadata": {},
   "source": [
    "### Sensitivity Analysis"
   ]
  },
  {
   "cell_type": "markdown",
   "id": "6695dd7e-453f-44b7-884e-053708fec3b2",
   "metadata": {},
   "source": [
    "#### Simulation Time"
   ]
  },
  {
   "cell_type": "code",
   "execution_count": 2,
   "id": "ce5bad8c-ada2-494c-89e7-42a773e21058",
   "metadata": {
    "tags": []
   },
   "outputs": [],
   "source": [
    "from M4_Simulation_Flow import Gen_Map_Trip_Assignment, Run_Case_Simulation\n",
    "from M5_Post_Processing import Write_Log\n",
    "import os\n",
    "import time\n",
    "import sys"
   ]
  },
  {
   "cell_type": "code",
   "execution_count": 1,
   "id": "b7e7665f-6e95-466f-b201-7e970960a249",
   "metadata": {
    "tags": []
   },
   "outputs": [
    {
     "ename": "NameError",
     "evalue": "name 'time' is not defined",
     "output_type": "error",
     "traceback": [
      "\u001b[0;31m---------------------------------------------------------------------------\u001b[0m",
      "\u001b[0;31mNameError\u001b[0m                                 Traceback (most recent call last)",
      "Cell \u001b[0;32mIn[1], line 2\u001b[0m\n\u001b[1;32m      1\u001b[0m \u001b[38;5;66;03m# Start Timing\u001b[39;00m\n\u001b[0;32m----> 2\u001b[0m start_time \u001b[38;5;241m=\u001b[39m \u001b[43mtime\u001b[49m\u001b[38;5;241m.\u001b[39mtime()\n\u001b[1;32m      3\u001b[0m \u001b[38;5;28mprint\u001b[39m(\u001b[38;5;124m'\u001b[39m\u001b[38;5;124m[Run Start]\u001b[39m\u001b[38;5;124m'\u001b[39m)\n\u001b[1;32m      5\u001b[0m \u001b[38;5;66;03m# Set Up Analysis Folder\u001b[39;00m\n",
      "\u001b[0;31mNameError\u001b[0m: name 'time' is not defined"
     ]
    }
   ],
   "source": [
    "# Start Timing\n",
    "start_time = time.time()\n",
    "print('[Run Start]')\n",
    "\n",
    "# Set Up Analysis Folder\n",
    "version_name = 'Sensitivity_Snow_Depth1'\n",
    "\n",
    "# Create Result Folder\n",
    "os.makedirs('Result_'+version_name)\n",
    "log_file_name = 'Result_'+version_name+'/Run_Log.txt'\n",
    "\n",
    "\n",
    "# Set Parameters\n",
    "map_info_path = 'Data/AA_Map_Final.gpkg'\n",
    "trip_origin_path = 'Data/your_locations.csv'\n",
    "trip_destination_path = 'Data/your_destinations.csv'\n",
    "plow_speed = 15\n",
    "plow_num = 1\n",
    "plow_start_points = [151]\n",
    "num_reps = 10\n",
    "simulation_hours = 4\n",
    "\n",
    "for i in [1,2,3,4,5,6,7,8,9,10]:\n",
    "    # Set Simulation Time\n",
    "    snow_depth = i\n",
    "    case_num = str(i)\n",
    "\n",
    "    # Scenario Set Up\n",
    "    Write_Log(log_file_name, '== Snow Depth ' + str(snow_depth) + ' inch ==')\n",
    "    M = Gen_Map_Trip_Assignment(map_info_path, trip_origin_path, trip_destination_path, simulation_hours)\n",
    "\n",
    "    # Run Case\n",
    "    Run_Case_Simulation(version_name, num_reps, log_file_name,\n",
    "                        M, simulation_hours, plow_speed,\n",
    "                        case_num, snow_depth, plow_num, plow_start_points)\n",
    "\n",
    "    Write_Log(log_file_name, 'time: '+str(round((time.time()-start_time)/60, 2))+' min')\n",
    "\n",
    "print('[Run End]')\n"
   ]
  }
 ],
 "metadata": {
  "kernelspec": {
   "display_name": "Python 3 (ipykernel)",
   "language": "python",
   "name": "python3"
  },
  "language_info": {
   "codemirror_mode": {
    "name": "ipython",
    "version": 3
   },
   "file_extension": ".py",
   "mimetype": "text/x-python",
   "name": "python",
   "nbconvert_exporter": "python",
   "pygments_lexer": "ipython3",
   "version": "3.9.18"
  }
 },
 "nbformat": 4,
 "nbformat_minor": 5
}
