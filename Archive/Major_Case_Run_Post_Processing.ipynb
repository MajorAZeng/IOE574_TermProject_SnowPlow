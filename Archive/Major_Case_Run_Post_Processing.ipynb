{
 "cells": [
  {
   "cell_type": "code",
   "execution_count": 1,
   "id": "750dac64-4004-4d3b-b04b-370eebf1865a",
   "metadata": {},
   "outputs": [],
   "source": [
    "from M4_Simulation_Flow import Gen_Map_Trip_Assignment, Run_Simulation\n",
    "from M5_Post_Processing import Mean_Travel_Time_Stats, Est_Precision, Save_To_File\n",
    "import time"
   ]
  },
  {
   "cell_type": "code",
   "execution_count": null,
   "id": "05177808-1907-407e-ab73-40e2820642ec",
   "metadata": {},
   "outputs": [],
   "source": [
    "# Report out plow time\n",
    "# Variance Reduction, make sure they use the same trip assignments"
   ]
  },
  {
   "cell_type": "markdown",
   "id": "c2fbcbd4-a1ad-4e4e-9f7a-72c2a9f9ae73",
   "metadata": {},
   "source": [
    "### General Code Case"
   ]
  },
  {
   "cell_type": "code",
   "execution_count": 2,
   "id": "ccfc983d-2edf-423d-a878-1d682dd39d31",
   "metadata": {},
   "outputs": [],
   "source": [
    "# Genearal Parameters\n",
    "map_info_path = 'Data/AA_Map_Final.gpkg'\n",
    "trip_origin_path = 'Data/your_locations.csv'\n",
    "trip_destination_path = 'Data/your_destinations.csv'\n",
    "simulation_hours = 4"
   ]
  },
  {
   "cell_type": "code",
   "execution_count": 3,
   "id": "868a2fee-b690-4804-a487-f7e0f46991ad",
   "metadata": {},
   "outputs": [],
   "source": [
    "# General Scenario Set Up\n",
    "M = Gen_Map_Trip_Assignment (map_info_path, trip_origin_path, trip_destination_path, simulation_hours)"
   ]
  },
  {
   "cell_type": "code",
   "execution_count": 7,
   "id": "a25a9122-4608-489f-848f-849c64d34262",
   "metadata": {},
   "outputs": [],
   "source": [
    "# Other Pamaters\n",
    "snow_depth = 0\n",
    "plow_num = 0\n",
    "plow_start_points = []\n",
    "plow_speed = 15"
   ]
  },
  {
   "cell_type": "code",
   "execution_count": 8,
   "id": "e4703ffb-b1a7-460b-a85f-27603f6b0f48",
   "metadata": {},
   "outputs": [
    {
     "name": "stderr",
     "output_type": "stream",
     "text": [
      "100%|███████████████████████████████████████████| 10/10 [00:05<00:00,  1.70it/s]\n"
     ]
    }
   ],
   "source": [
    "# Simulation\n",
    "Travel_Time_Record, Plow_Time_Record = Run_Simulation(M,  snow_depth, simulation_hours,\n",
    "                    plow_num, plow_start_points, plow_speed, num_reps=10)"
   ]
  },
  {
   "cell_type": "code",
   "execution_count": 13,
   "id": "ff927219-5a27-4431-a803-69de8f7adf2d",
   "metadata": {},
   "outputs": [],
   "source": [
    "# Save Records\n",
    "Save_To_File('Case1_10RepRun_TravelTime.pkl', Travel_Time_Record, exist=False)\n",
    "Save_To_File('Case1_10RepRun_PlowTime.pkl', Plow_Time_Record, exist=False)"
   ]
  },
  {
   "cell_type": "code",
   "execution_count": null,
   "id": "d9fc01af-70cd-4a81-8346-0b33af3f5962",
   "metadata": {},
   "outputs": [],
   "source": []
  },
  {
   "cell_type": "markdown",
   "id": "cc469004-28ca-42c3-bf5b-ff636fce734d",
   "metadata": {},
   "source": [
    "### Case 1: No Snow"
   ]
  },
  {
   "cell_type": "code",
   "execution_count": null,
   "id": "4368ef3b-d8ab-41ff-8dd5-fa03be076162",
   "metadata": {},
   "outputs": [],
   "source": [
    "##### Parameters #####\n",
    "map_info_path = 'Data/AA_Map_Final.gpkg'\n",
    "trip_origin_path = 'Data/your_locations.csv'\n",
    "trip_destination_path = 'Data/your_destinations.csv'\n",
    "\n",
    "snow_depth = 0\n",
    "simulation_hours = 4\n",
    "plow_num = 0\n",
    "plow_start_points = []\n",
    "plow_speed = 15\n",
    "\n",
    "result_file = 'Case1_1000RepRun.pkl'\n",
    "num_reps = 1000\n",
    "\n",
    "#### Run and Save Results ####\n",
    "start_time = time.time()\n",
    "Travel_Time_Record = Run_Simulation(map_info_path, trip_origin_path, trip_destination_path, \n",
    "                                    snow_depth, simulation_hours,\n",
    "                                    plow_num, plow_start_points, plow_speed, num_reps)  \n",
    "print(\"Run time [min]: \" , (time.time() - start_time)/60)\n",
    "Save_To_File(result_file, Travel_Time_Record, exist=False)\n",
    "\n",
    "#### Mean Travel Time Estimation and PercisioN ####\n",
    "# Find Means\n",
    "mean_tt_per_rep, mean_tt, std_tt = Mean_Travel_Time_Stats(Travel_Time_Record)\n",
    "# Calculate Percision\n",
    "est_precision = Est_Precision(0.95, num_reps, std_tt)\n",
    "# Read Results\n",
    "print('Mean Travel Time: ', mean_tt)\n",
    "print('95 Confidence Percision Width:', est_precision)"
   ]
  },
  {
   "cell_type": "markdown",
   "id": "bd085512-6a46-4c76-8cea-9c75dede73db",
   "metadata": {
    "jp-MarkdownHeadingCollapsed": true
   },
   "source": [
    "### Case 2: 4 Inch Snow No Plow"
   ]
  },
  {
   "cell_type": "code",
   "execution_count": null,
   "id": "7ccd5fe0-909d-4585-8c61-46e1345b0079",
   "metadata": {},
   "outputs": [],
   "source": [
    "##### Parameters #####\n",
    "map_info_path = 'Data/AA_Map_Final.gpkg'\n",
    "trip_origin_path = 'Data/your_locations.csv'\n",
    "trip_destination_path = 'Data/your_destinations.csv'\n",
    "\n",
    "snow_depth = 4\n",
    "simulation_hours = 4\n",
    "plow_num = 0\n",
    "plow_start_points = []\n",
    "plow_speed = 15\n",
    "\n",
    "result_file = 'Case2_1000RepRun.pkl'\n",
    "num_reps = 1000\n",
    "\n",
    "#### Run and Save Results ####\n",
    "start_time = time.time()\n",
    "Travel_Time_Record = Run_Simulation(map_info_path, trip_origin_path, trip_destination_path, \n",
    "                                    snow_depth, simulation_hours,\n",
    "                                    plow_num, plow_start_points, plow_speed, num_reps)  \n",
    "print(\"Run time [min]: \" , (time.time() - start_time)/60)\n",
    "Save_To_File(result_file, Travel_Time_Record, exist=False)\n",
    "\n",
    "#### Mean Travel Time Estimation and PercisioN ####\n",
    "# Find Means\n",
    "mean_tt_per_rep, mean_tt, std_tt = Mean_Travel_Time_Stats(Travel_Time_Record)\n",
    "# Calculate Percision\n",
    "est_precision = Est_Precision(0.95, num_reps, std_tt)\n",
    "# Read Results\n",
    "print('Mean Travel Time: ', mean_tt)\n",
    "print('95 Confidence Percision Width:', est_precision)"
   ]
  },
  {
   "cell_type": "markdown",
   "id": "a34186e1-5b5a-4c75-8c34-e849da9046e4",
   "metadata": {
    "jp-MarkdownHeadingCollapsed": true
   },
   "source": [
    "### Case 3: 4 Inch Snow, 1 Plow from Center of Town"
   ]
  },
  {
   "cell_type": "code",
   "execution_count": null,
   "id": "3cc08d5a-ec60-466e-a3af-fb1b5ad785ed",
   "metadata": {},
   "outputs": [],
   "source": [
    "##### Parameters #####\n",
    "map_info_path = 'Data/AA_Map_Final.gpkg'\n",
    "trip_origin_path = 'Data/your_locations.csv'\n",
    "trip_destination_path = 'Data/your_destinations.csv'\n",
    "\n",
    "snow_depth = 4\n",
    "simulation_hours = 4\n",
    "plow_num = 1\n",
    "plow_start_points = [151]\n",
    "plow_speed = 15\n",
    "\n",
    "result_file = 'Case3_100RepRun.pkl'\n",
    "num_reps = 100\n",
    "\n",
    "#### Run and Save Results ####\n",
    "start_time = time.time()\n",
    "Travel_Time_Record = Run_Simulation(map_info_path, trip_origin_path, trip_destination_path, \n",
    "                                    snow_depth, simulation_hours,\n",
    "                                    plow_num, plow_start_points, plow_speed, num_reps)  \n",
    "print(\"Run time [min]: \" , (time.time() - start_time)/60)\n",
    "Save_To_File(result_file, Travel_Time_Record, exist=False)\n",
    "\n",
    "#### Mean Travel Time Estimation and PercisioN ####\n",
    "# Find Means\n",
    "mean_tt_per_rep, mean_tt, std_tt = Mean_Travel_Time_Stats(Travel_Time_Record)\n",
    "# Calculate Percision\n",
    "est_precision = Est_Precision(0.95, num_reps, std_tt)\n",
    "# Read Results\n",
    "print('Mean Travel Time: ', mean_tt)\n",
    "print('95 Confidence Percision Width:', est_precision)"
   ]
  },
  {
   "cell_type": "markdown",
   "id": "db775f15-eded-4c36-bed6-efbf5d9dfe37",
   "metadata": {
    "jp-MarkdownHeadingCollapsed": true
   },
   "source": [
    "### Case 4: 4 Inch Snow, 2 Plows from Center of Town"
   ]
  },
  {
   "cell_type": "code",
   "execution_count": null,
   "id": "b2264f3b-adbe-41fc-8266-ced8edd237ad",
   "metadata": {},
   "outputs": [],
   "source": [
    "##### Parameters #####\n",
    "map_info_path = 'Data/AA_Map_Final.gpkg'\n",
    "trip_origin_path = 'Data/your_locations.csv'\n",
    "trip_destination_path = 'Data/your_destinations.csv'\n",
    "\n",
    "snow_depth = 4\n",
    "simulation_hours = 4\n",
    "plow_num = 2\n",
    "plow_start_points = [151, 151]\n",
    "plow_speed = 15\n",
    "\n",
    "result_file = 'Case4_100RepRun.pkl'\n",
    "num_reps = 100\n",
    "\n",
    "#### Run and Save Results ####\n",
    "start_time = time.time()\n",
    "Travel_Time_Record = Run_Simulation(map_info_path, trip_origin_path, trip_destination_path, \n",
    "                                    snow_depth, simulation_hours,\n",
    "                                    plow_num, plow_start_points, plow_speed, num_reps)  \n",
    "print(\"Run time [min]: \" , (time.time() - start_time)/60)\n",
    "Save_To_File(result_file, Travel_Time_Record, exist=False)\n",
    "\n",
    "#### Mean Travel Time Estimation and PercisioN ####\n",
    "# Find Means\n",
    "mean_tt_per_rep, mean_tt, std_tt = Mean_Travel_Time_Stats(Travel_Time_Record)\n",
    "# Calculate Percision\n",
    "est_precision = Est_Precision(0.95, num_reps, std_tt)\n",
    "# Read Results\n",
    "print('Mean Travel Time: ', mean_tt)\n",
    "print('95 Confidence Percision Width:', est_precision)"
   ]
  },
  {
   "cell_type": "markdown",
   "id": "e278865a-44fc-484d-b3fe-772734731581",
   "metadata": {},
   "source": [
    "### Case 5: 4 Inch Snow, 2 Plows from UMich North Campus and Poineer High"
   ]
  },
  {
   "cell_type": "code",
   "execution_count": null,
   "id": "cd94434e-c751-4c3e-a103-c51118be74bd",
   "metadata": {},
   "outputs": [],
   "source": [
    "##### Parameters #####\n",
    "map_info_path = 'Data/AA_Map_Final.gpkg'\n",
    "trip_origin_path = 'Data/your_locations.csv'\n",
    "trip_destination_path = 'Data/your_destinations.csv'\n",
    "\n",
    "snow_depth = 4\n",
    "simulation_hours = 4\n",
    "plow_num = 2\n",
    "plow_start_points = [218, 141]\n",
    "plow_speed = 15\n",
    "\n",
    "result_file = 'Case5_1000RepRun.pkl'\n",
    "num_reps = 1000\n",
    "\n",
    "#### Run and Save Results ####\n",
    "start_time = time.time()\n",
    "Travel_Time_Record = Run_Simulation(map_info_path, trip_origin_path, trip_destination_path, \n",
    "                                    snow_depth, simulation_hours,\n",
    "                                    plow_num, plow_start_points, plow_speed, num_reps)  \n",
    "print(\"Run time [min]: \" , (time.time() - start_time)/60)\n",
    "Save_To_File(result_file, Travel_Time_Record, exist=False)\n",
    "\n",
    "#### Mean Travel Time Estimation and PercisioN ####\n",
    "# Find Means\n",
    "mean_tt_per_rep, mean_tt, std_tt = Mean_Travel_Time_Stats(Travel_Time_Record)\n",
    "# Calculate Percision\n",
    "est_precision = Est_Precision(0.95, num_reps, std_tt)\n",
    "# Read Results\n",
    "print('Mean Travel Time: ', mean_tt)\n",
    "print('95 Confidence Percision Width:', est_precision)"
   ]
  }
 ],
 "metadata": {
  "kernelspec": {
   "display_name": "Python 3 (ipykernel)",
   "language": "python",
   "name": "python3"
  },
  "language_info": {
   "codemirror_mode": {
    "name": "ipython",
    "version": 3
   },
   "file_extension": ".py",
   "mimetype": "text/x-python",
   "name": "python",
   "nbconvert_exporter": "python",
   "pygments_lexer": "ipython3",
   "version": "3.9.18"
  }
 },
 "nbformat": 4,
 "nbformat_minor": 5
}
