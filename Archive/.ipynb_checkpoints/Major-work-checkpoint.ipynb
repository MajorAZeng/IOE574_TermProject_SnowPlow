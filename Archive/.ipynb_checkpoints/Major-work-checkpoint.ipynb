{
 "cells": [
  {
   "cell_type": "markdown",
   "id": "7aadc5c8-e301-420f-838f-70a38e93508f",
   "metadata": {
    "jp-MarkdownHeadingCollapsed": true,
    "tags": []
   },
   "source": [
    "#### Modal Parameters"
   ]
  },
  {
   "cell_type": "code",
   "execution_count": null,
   "id": "e9284ffb-280f-4192-8006-0062988e4ee2",
   "metadata": {},
   "outputs": [],
   "source": [
    "map_info_path = 'Data/AA_Map_Final.gpkg'\n",
    "snow_depth = 4\n",
    "trip_origin_path = 'Data/your_locations.csv'\n",
    "trip_destination_path = 'Data/your_destinations.csv'\n",
    "\n",
    "simulation_hours = 4\n",
    "\n",
    "plow_num = 1\n",
    "plow_start_points = [310]\n",
    "plow_speed = 15 \n",
    "plow_time = 240"
   ]
  },
  {
   "cell_type": "code",
   "execution_count": null,
   "id": "a0d1c1a6-6d11-4b53-8cad-433c03141c30",
   "metadata": {},
   "outputs": [],
   "source": [
    "import time"
   ]
  },
  {
   "cell_type": "markdown",
   "id": "e618b430-b6aa-4a27-9733-afa2155cb59c",
   "metadata": {
    "jp-MarkdownHeadingCollapsed": true
   },
   "source": [
    "#### Module 0 Map Generation"
   ]
  },
  {
   "cell_type": "code",
   "execution_count": null,
   "id": "d675c7cd-f78d-487e-b21e-2c3be8ebb874",
   "metadata": {
    "tags": []
   },
   "outputs": [],
   "source": [
    "from M0_Class_Map_Road import Map"
   ]
  },
  {
   "cell_type": "code",
   "execution_count": null,
   "id": "9c683262-0569-464a-a201-74d3684b9c45",
   "metadata": {
    "tags": []
   },
   "outputs": [],
   "source": [
    "# Create a based map\n",
    "M = Map(map_info_path)\n",
    "# Experience a snow event\n",
    "M.Experience_Snow(snow_depth)"
   ]
  },
  {
   "cell_type": "markdown",
   "id": "048f84f1-c768-4f9e-8076-b90454fe0d33",
   "metadata": {
    "jp-MarkdownHeadingCollapsed": true,
    "tags": []
   },
   "source": [
    "#### Module 1 Trip Simulation"
   ]
  },
  {
   "cell_type": "code",
   "execution_count": null,
   "id": "243fab9c-85fa-406f-9ce8-5c6d6feaed3d",
   "metadata": {
    "tags": []
   },
   "outputs": [],
   "source": [
    "from M1_Trip_Generation_Module import Generate_Trips"
   ]
  },
  {
   "cell_type": "code",
   "execution_count": null,
   "id": "f144fd85-15a3-44c5-b173-233d6dc7999b",
   "metadata": {
    "tags": []
   },
   "outputs": [],
   "source": [
    "#\n",
    "start_time = time.time()\n",
    "\n",
    "# Generate trips\n",
    "Generate_Trips(M, trip_origin_path, trip_destination_path, simulation_hours)\n",
    "\n",
    "#\n",
    "print(\"--- %s seconds ---\" % (time.time() - start_time))"
   ]
  },
  {
   "cell_type": "markdown",
   "id": "9b110569-255a-4d84-b2af-58a34ac7f6d1",
   "metadata": {
    "jp-MarkdownHeadingCollapsed": true
   },
   "source": [
    "#### Module 2 Plowing Simulation"
   ]
  },
  {
   "cell_type": "code",
   "execution_count": null,
   "id": "e0258477-310c-4566-8316-707b63ce730a",
   "metadata": {
    "tags": []
   },
   "outputs": [],
   "source": [
    "from M2_Plowing_Simulatoin_Module import Run_Snowplow_Simulation"
   ]
  },
  {
   "cell_type": "code",
   "execution_count": null,
   "id": "7bebcebc-3eaa-4bd4-aa2a-598c62099f70",
   "metadata": {
    "tags": []
   },
   "outputs": [],
   "source": [
    "#\n",
    "start_time = time.time()\n",
    "\n",
    "# Simulation Plowing Time\n",
    "Run_Snowplow_Simulation(plow_num, plow_start_points, plow_speed, M, simulation_hours)\n",
    "\n",
    "#\n",
    "print(\"--- %s seconds ---\" % (time.time() - start_time))"
   ]
  },
  {
   "cell_type": "markdown",
   "id": "823bb448-f280-447c-a9cd-dd8a9da62509",
   "metadata": {
    "jp-MarkdownHeadingCollapsed": true
   },
   "source": [
    "#### Module 3 Travel Simulation"
   ]
  },
  {
   "cell_type": "code",
   "execution_count": null,
   "id": "d88be43f-1c68-4d90-9501-2b36bac5727f",
   "metadata": {
    "tags": []
   },
   "outputs": [],
   "source": [
    "from M3_Travel_Simulation_Module import Run_Travel_Simulation"
   ]
  },
  {
   "cell_type": "code",
   "execution_count": null,
   "id": "83ce57fb-bade-49fe-8956-49750838e3a2",
   "metadata": {
    "tags": []
   },
   "outputs": [],
   "source": [
    "#\n",
    "start_time = time.time()\n",
    "\n",
    "# Simulate Travel Time\n",
    "travel_time_list = Run_Travel_Simulation(M)\n",
    "\n",
    "#\n",
    "print(\"--- %s seconds ---\" % (time.time() - start_time))"
   ]
  },
  {
   "cell_type": "markdown",
   "id": "fbbb2ec0-f433-4db8-9d84-9d74b5282748",
   "metadata": {
    "jp-MarkdownHeadingCollapsed": true
   },
   "source": [
    "#### Module 4 Run Simulation"
   ]
  },
  {
   "cell_type": "code",
   "execution_count": null,
   "id": "214a5a2a-142e-4b6a-acdc-abc8c0c97e3b",
   "metadata": {},
   "outputs": [],
   "source": [
    "from M4_Run_Simulation import Run_Simulation"
   ]
  },
  {
   "cell_type": "code",
   "execution_count": null,
   "id": "824878aa-64d4-4ec3-b3e8-2bf52c6d5ac7",
   "metadata": {
    "tags": []
   },
   "outputs": [],
   "source": [
    "num_reps = 3\n",
    "TT = Run_Simulation(map_info_path, trip_origin_path, trip_destination_path, simulation_hours,\n",
    "                        plow_num, plow_start_points, plow_speed, num_reps)"
   ]
  },
  {
   "cell_type": "code",
   "execution_count": null,
   "id": "10f2c134-9489-44fc-9385-8474685d88a7",
   "metadata": {},
   "outputs": [],
   "source": []
  },
  {
   "cell_type": "markdown",
   "id": "bb173a0e-cc8a-4f15-8b47-db0e184d1907",
   "metadata": {},
   "source": [
    "#### Case 3 Simulation"
   ]
  },
  {
   "cell_type": "code",
   "execution_count": 1,
   "id": "8679c59e-b233-4aac-9075-722b46c40fcd",
   "metadata": {},
   "outputs": [],
   "source": [
    "from M4_Run_Simulation import Run_Simulation\n",
    "from M5_Post_Processing import Mean_Travel_Time_Stats, Est_Precision, Save_To_File"
   ]
  },
  {
   "cell_type": "code",
   "execution_count": 2,
   "id": "30d8b4d4-4dda-43f6-badc-ef69b3b1d724",
   "metadata": {},
   "outputs": [],
   "source": [
    "# Parameter Set Up\n",
    "\n",
    "map_info_path = 'Data/AA_Map_Final.gpkg'\n",
    "snow_depth = 4\n",
    "\n",
    "trip_origin_path = 'Data/your_locations.csv'\n",
    "trip_destination_path = 'Data/your_destinations.csv'\n",
    "\n",
    "simulation_hours = 4\n",
    "\n",
    "plow_num = 1\n",
    "plow_start_points = [151]\n",
    "plow_speed = 15 \n",
    "plow_time = 240\n",
    "\n",
    "result_file = 'Case3_Run1.pkl'\n",
    "num_reps = 10"
   ]
  },
  {
   "cell_type": "code",
   "execution_count": 3,
   "id": "58c44f81-27fa-490f-93aa-50eaa58ea2cc",
   "metadata": {},
   "outputs": [
    {
     "name": "stderr",
     "output_type": "stream",
     "text": [
      "100%|███████████████████████████████████████████| 10/10 [00:38<00:00,  3.81s/it]\n"
     ]
    }
   ],
   "source": [
    "# Scoping Run\n",
    "Travel_Time_Record = Run_Simulation(map_info_path, trip_origin_path, trip_destination_path, simulation_hours,\n",
    "                        plow_num, plow_start_points, plow_speed, num_reps)"
   ]
  },
  {
   "cell_type": "code",
   "execution_count": 4,
   "id": "c3e2938b-45a9-4046-8cdf-0df5829d1aff",
   "metadata": {},
   "outputs": [],
   "source": [
    "# Save Results\n",
    "Save_To_File(result_file, Travel_Time_Record, exist=False)"
   ]
  },
  {
   "cell_type": "code",
   "execution_count": 5,
   "id": "c329bcd4-bd32-423c-9fbf-c5dc23c9631a",
   "metadata": {},
   "outputs": [
    {
     "name": "stdout",
     "output_type": "stream",
     "text": [
      "Mean Travel Time:  4.07897574805435\n",
      "95 Confidence Percision Width: nan\n"
     ]
    },
    {
     "name": "stderr",
     "output_type": "stream",
     "text": [
      "/Users/majorz/anaconda3/envs/sim_term_proj_env/lib/python3.9/site-packages/numpy/core/_methods.py:206: RuntimeWarning: Degrees of freedom <= 0 for slice\n",
      "  ret = _var(a, axis=axis, dtype=dtype, out=out, ddof=ddof,\n",
      "/Users/majorz/anaconda3/envs/sim_term_proj_env/lib/python3.9/site-packages/numpy/core/_methods.py:198: RuntimeWarning: invalid value encountered in scalar divide\n",
      "  ret = ret.dtype.type(ret / rcount)\n"
     ]
    }
   ],
   "source": [
    "# Calculate percision\n",
    "mean_tt_per_rep, mean_tt, std_tt = Mean_Travel_Time_Stats(Travel_Time_Record)\n",
    "est_precision = Est_Precision(0.95, num_reps, std_tt)\n",
    "print('Mean Travel Time: ', mean_tt)\n",
    "print('95 Confidence Percision Width:', est_precision)"
   ]
  },
  {
   "cell_type": "code",
   "execution_count": 6,
   "id": "fae057b5-a28d-4d51-b096-d4ba8b58d8d2",
   "metadata": {},
   "outputs": [
    {
     "data": {
      "text/plain": [
       "([4.068116897555317,\n",
       "  4.1620339361561856,\n",
       "  4.028672147190136,\n",
       "  4.053183784679807,\n",
       "  4.044211829670976,\n",
       "  4.158320147558111,\n",
       "  4.038678688176203,\n",
       "  4.094385299966794,\n",
       "  4.047508083584988,\n",
       "  4.094646666004985],\n",
       " 4.07897574805435,\n",
       " nan)"
      ]
     },
     "execution_count": 6,
     "metadata": {},
     "output_type": "execute_result"
    }
   ],
   "source": [
    "Mean_Travel_Time_Stats(Travel_Time_Record)"
   ]
  },
  {
   "cell_type": "code",
   "execution_count": null,
   "id": "1b075adb-42d1-403d-875f-e294afa6e03e",
   "metadata": {},
   "outputs": [],
   "source": []
  },
  {
   "cell_type": "code",
   "execution_count": null,
   "id": "aac3ade5-c26e-41b3-bf77-f9aba417558e",
   "metadata": {},
   "outputs": [],
   "source": [
    "with open(result_file, 'wb') as f:\n",
    "    pickle.dump(Travel_Time_Record, f) "
   ]
  },
  {
   "cell_type": "code",
   "execution_count": null,
   "id": "3c220ce2-98c2-401e-86e0-71820d1a0a7a",
   "metadata": {},
   "outputs": [],
   "source": [
    "with open(result_file, 'rb') as f:\n",
    "    record = pickle.load(f)\n",
    "record = record + Travel_Time_Record\n",
    "with open(result_file, 'wb') as f:\n",
    "    pickle.dump(Travel_Time_Record, f) "
   ]
  }
 ],
 "metadata": {
  "kernelspec": {
   "display_name": "Python 3 (ipykernel)",
   "language": "python",
   "name": "python3"
  },
  "language_info": {
   "codemirror_mode": {
    "name": "ipython",
    "version": 3
   },
   "file_extension": ".py",
   "mimetype": "text/x-python",
   "name": "python",
   "nbconvert_exporter": "python",
   "pygments_lexer": "ipython3",
   "version": "3.9.18"
  }
 },
 "nbformat": 4,
 "nbformat_minor": 5
}
